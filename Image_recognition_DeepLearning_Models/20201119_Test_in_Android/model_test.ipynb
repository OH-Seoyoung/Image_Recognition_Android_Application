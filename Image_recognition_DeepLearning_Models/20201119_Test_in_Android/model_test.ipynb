{
 "cells": [
  {
   "cell_type": "code",
   "execution_count": 12,
   "metadata": {},
   "outputs": [],
   "source": [
    "import keras\n",
    "import numpy as np\n",
    "import matplotlib.pyplot as plt\n",
    "from keras.preprocessing import image\n",
    "from keras.models import model_from_json "
   ]
  },
  {
   "cell_type": "code",
   "execution_count": 13,
   "metadata": {},
   "outputs": [
    {
     "name": "stdout",
     "output_type": "stream",
     "text": [
      "Loaded model from disk\n"
     ]
    }
   ],
   "source": [
    "# Load trained model\n",
    "json_file = open(\"5_model.json\", \"r\")\n",
    "loaded_model_json = json_file.read() \n",
    "json_file.close()\n",
    "loaded_model = model_from_json(loaded_model_json)\n",
    " \n",
    "# model weight load \n",
    "loaded_model.load_weights(\"5_weights.h5\")\n",
    "print(\"Loaded model from disk\")"
   ]
  },
  {
   "cell_type": "code",
   "execution_count": 15,
   "metadata": {
    "scrolled": true
   },
   "outputs": [],
   "source": [
    "f_name = \"folder/test.jpg\"  ## change here\n",
    "\n",
    "test_image = image.load_img(f_name, target_size = (32,32))\n",
    "test_image = np.array(test_image)\n",
    "test_image = test_image/255"
   ]
  },
  {
   "cell_type": "code",
   "execution_count": 17,
   "metadata": {},
   "outputs": [],
   "source": [
    "a_pred = str(loaded_model.predict_classes(test_image.reshape(1,32,32,3)))\n",
    "o_pred = loaded_model.predict(test_image.reshape(1,32,32,3))\n",
    "o_pred = np.around(o_pred,3)\n",
    "pred_100 = o_pred * 100"
   ]
  },
  {
   "cell_type": "code",
   "execution_count": 19,
   "metadata": {},
   "outputs": [],
   "source": [
    "ind = np.argmax(o_pred, axis = 1)\n",
    "if o_pred[0,ind] >=0.5 :\n",
    "    if a_pred == '[0]':\n",
    "        a_label = '데이지'\n",
    "    if a_pred == '[1]':\n",
    "        a_label = '민들레'\n",
    "    if a_pred == '[2]':\n",
    "        a_label = '장미'\n",
    "    if a_pred == '[3]':\n",
    "        a_label = '해바라기'   \n",
    "    if a_pred == '[4]':\n",
    "        a_label = '튤립'  \n",
    "\n",
    "f = open(\"folder/result.txt\", 'w')  ## change here\n",
    "f.write(a_label)\n",
    "f.close()        "
   ]
  }
 ],
 "metadata": {
  "kernelspec": {
   "display_name": "Python 3",
   "language": "python",
   "name": "python3"
  },
  "language_info": {
   "codemirror_mode": {
    "name": "ipython",
    "version": 3
   },
   "file_extension": ".py",
   "mimetype": "text/x-python",
   "name": "python",
   "nbconvert_exporter": "python",
   "pygments_lexer": "ipython3",
   "version": "3.8.3"
  }
 },
 "nbformat": 4,
 "nbformat_minor": 4
}
