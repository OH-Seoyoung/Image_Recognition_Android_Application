{
 "cells": [
  {
   "cell_type": "markdown",
   "metadata": {},
   "source": [
    "# Image recognition android application project\n",
    "- Flower image classification with Baseline CNN (20200823)  \n",
    "- 4685 training set with 5 class, 100 iterations, no batch\n",
    "\n",
    "### Reference\n",
    "- [Advanced Computer Vision with TensorFlow], https://stephan-osterburg.gitbook.io/coding/coding/ml-dl/tensorfow"
   ]
  },
  {
   "cell_type": "markdown",
   "metadata": {},
   "source": [
    "## 1. Import packages"
   ]
  },
  {
   "cell_type": "code",
   "execution_count": 2,
   "metadata": {},
   "outputs": [
    {
     "name": "stderr",
     "output_type": "stream",
     "text": [
      "Using TensorFlow backend.\n"
     ]
    },
    {
     "name": "stdout",
     "output_type": "stream",
     "text": [
      "WARNING:tensorflow:From C:\\ProgramData\\Anaconda3\\lib\\site-packages\\tensorflow_core\\python\\compat\\v2_compat.py:88: disable_resource_variables (from tensorflow.python.ops.variable_scope) is deprecated and will be removed in a future version.\n",
      "Instructions for updating:\n",
      "non-resource variables are not supported in the long term\n"
     ]
    }
   ],
   "source": [
    "from __future__ import absolute_import\n",
    "from __future__ import division\n",
    "from __future__ import print_function\n",
    "\n",
    "import os\n",
    "import sys\n",
    "import tarfile\n",
    "import glob\n",
    "from six.moves import urllib\n",
    "from glob import glob\n",
    "import random\n",
    "import shutil\n",
    "\n",
    "import keras\n",
    "from keras.models import Sequential\n",
    "from keras.layers import Dense, Dropout, Flatten\n",
    "from keras.layers.convolutional import Conv2D, MaxPooling2D\n",
    "from keras.models import load_model\n",
    "import tensorflow.compat.v1 as tf\n",
    "tf.disable_v2_behavior()\n",
    "\n",
    "import numpy as np\n",
    "import matplotlib\n",
    "import matplotlib.pyplot as plt"
   ]
  },
  {
   "cell_type": "markdown",
   "metadata": {},
   "source": [
    "## 2. Load and Explore the Flower Dataset"
   ]
  },
  {
   "cell_type": "code",
   "execution_count": 3,
   "metadata": {},
   "outputs": [],
   "source": [
    "def load_data_files(base_dir):\n",
    "    folder_name = \"dataset/flower_photos\"\n",
    "    RAW_DATASET = os.path.join(base_dir, folder_name)\n",
    "\n",
    "    abs_dir = os.path.join(os.getcwd(), folder_name)\n",
    "    sub_dir = os.listdir(abs_dir)\n",
    "    data_dic = {}\n",
    "    \n",
    "    for class_name  in sub_dir:\n",
    "        imgs = glob(os.path.join(RAW_DATASET,class_name,\"*.jpg\"))\n",
    "\n",
    "        data_dic[class_name] = imgs\n",
    "        print(\"Class: {}\".format(class_name))\n",
    "        print(\"Number of images: {} \\n\".format(len(imgs)))\n",
    "\n",
    "    return data_dic"
   ]
  },
  {
   "cell_type": "code",
   "execution_count": 4,
   "metadata": {
    "scrolled": true
   },
   "outputs": [
    {
     "name": "stdout",
     "output_type": "stream",
     "text": [
      "Class: daisy\n",
      "Number of images: 1020 \n",
      "\n",
      "Class: dandelion\n",
      "Number of images: 1277 \n",
      "\n",
      "Class: roses\n",
      "Number of images: 1124 \n",
      "\n",
      "Class: sunflowers\n",
      "Number of images: 1158 \n",
      "\n",
      "Class: tulips\n",
      "Number of images: 1275 \n",
      "\n"
     ]
    }
   ],
   "source": [
    "BASE_DIR = os.getcwd()\n",
    "data_dic = load_data_files(BASE_DIR)"
   ]
  },
  {
   "cell_type": "markdown",
   "metadata": {},
   "source": [
    "## 3. Split train and validation dataset"
   ]
  },
  {
   "cell_type": "code",
   "execution_count": 5,
   "metadata": {},
   "outputs": [],
   "source": [
    "# Create new directory and copy files to it\n",
    "def copy_files_to_directory(files, directory):\n",
    "    if not os.path.exists(directory):\n",
    "        os.makedirs(directory)\n",
    "        print(\"Created directory: {}\".format(directory))\n",
    "\n",
    "    for f in files:\n",
    "        shutil.copy(f, directory)\n",
    "    print(\"Copied {} files.\\n\".format(len(files)))"
   ]
  },
  {
   "cell_type": "code",
   "execution_count": 6,
   "metadata": {},
   "outputs": [],
   "source": [
    "def train_validation_split(base_dir, data_dic, split_ratio=0.2):\n",
    "    FLOWER_DATASET = os.path.join(base_dir,\"flower_dataset\")\n",
    "\n",
    "    if not os.path.exists(FLOWER_DATASET):\n",
    "        os.makedirs(FLOWER_DATASET)\n",
    "\n",
    "    for class_name, imgs in data_dic.items():\n",
    "        idx_split = int(len(imgs) * split_ratio)\n",
    "        random.shuffle(imgs)\n",
    "        validation = imgs[:idx_split]\n",
    "        train = imgs[idx_split:]\n",
    "\n",
    "        copy_files_to_directory(train, os.path.join(FLOWER_DATASET,\"train\",class_name))\n",
    "        copy_files_to_directory(validation, os.path.join(FLOWER_DATASET,\"validation\",class_name))"
   ]
  },
  {
   "cell_type": "code",
   "execution_count": 7,
   "metadata": {
    "scrolled": true
   },
   "outputs": [],
   "source": [
    "# BASE_DIR = os.getcwd()\n",
    "\n",
    "# train_validation_split(BASE_DIR, data_dic, split_ratio=0.2)"
   ]
  },
  {
   "cell_type": "markdown",
   "metadata": {},
   "source": [
    "## 4. Image preprocessing"
   ]
  },
  {
   "cell_type": "code",
   "execution_count": 8,
   "metadata": {},
   "outputs": [],
   "source": [
    "batch_size = 1\n",
    "num_classes = 5\n",
    "epochs = 100"
   ]
  },
  {
   "cell_type": "code",
   "execution_count": 9,
   "metadata": {},
   "outputs": [],
   "source": [
    "preprocessing_image = tf.keras.preprocessing.image\n",
    "\n",
    "train_datagen = preprocessing_image.ImageDataGenerator(\n",
    "    rescale=1./255,\n",
    "    shear_range=0.2,\n",
    "    zoom_range=0.2,\n",
    "    horizontal_flip=True)\n",
    "\n",
    "test_datagen = preprocessing_image.ImageDataGenerator(rescale=1./255)"
   ]
  },
  {
   "cell_type": "code",
   "execution_count": 10,
   "metadata": {
    "scrolled": false
   },
   "outputs": [
    {
     "name": "stdout",
     "output_type": "stream",
     "text": [
      "Found 4685 images belonging to 5 classes.\n",
      "Found 1169 images belonging to 5 classes.\n"
     ]
    }
   ],
   "source": [
    "BASE_DIR = os.getcwd()\n",
    "\n",
    "train_generator = train_datagen.flow_from_directory(\n",
    "    os.path.join(BASE_DIR, \"flower_dataset/train\"),\n",
    "    target_size=(32, 32),\n",
    "    batch_size=batch_size,\n",
    "    class_mode='categorical')\n",
    "\n",
    "validation_generator = test_datagen.flow_from_directory(\n",
    "    os.path.join(BASE_DIR, \"flower_dataset/validation\"),\n",
    "    target_size=(32, 32),\n",
    "    batch_size=batch_size,\n",
    "    class_mode='categorical')"
   ]
  },
  {
   "cell_type": "markdown",
   "metadata": {},
   "source": [
    "## 5. Baseline CNN model"
   ]
  },
  {
   "cell_type": "code",
   "execution_count": 11,
   "metadata": {
    "scrolled": false
   },
   "outputs": [
    {
     "name": "stdout",
     "output_type": "stream",
     "text": [
      "WARNING:tensorflow:From C:\\ProgramData\\Anaconda3\\lib\\site-packages\\tensorflow_core\\python\\ops\\resource_variable_ops.py:1635: calling BaseResourceVariable.__init__ (from tensorflow.python.ops.resource_variable_ops) with constraint is deprecated and will be removed in a future version.\n",
      "Instructions for updating:\n",
      "If using Keras pass *_constraint arguments to layers.\n",
      "Model: \"sequential_1\"\n",
      "_________________________________________________________________\n",
      "Layer (type)                 Output Shape              Param #   \n",
      "=================================================================\n",
      "conv2d_1 (Conv2D)            (None, 32, 32, 32)        2432      \n",
      "_________________________________________________________________\n",
      "max_pooling2d_1 (MaxPooling2 (None, 16, 16, 32)        0         \n",
      "_________________________________________________________________\n",
      "conv2d_2 (Conv2D)            (None, 16, 16, 64)        51264     \n",
      "_________________________________________________________________\n",
      "max_pooling2d_2 (MaxPooling2 (None, 8, 8, 64)          0         \n",
      "_________________________________________________________________\n",
      "dropout_1 (Dropout)          (None, 8, 8, 64)          0         \n",
      "_________________________________________________________________\n",
      "flatten_1 (Flatten)          (None, 4096)              0         \n",
      "_________________________________________________________________\n",
      "dense_1 (Dense)              (None, 1024)              4195328   \n",
      "_________________________________________________________________\n",
      "dropout_2 (Dropout)          (None, 1024)              0         \n",
      "_________________________________________________________________\n",
      "dense_2 (Dense)              (None, 5)                 5125      \n",
      "=================================================================\n",
      "Total params: 4,254,149\n",
      "Trainable params: 4,254,149\n",
      "Non-trainable params: 0\n",
      "_________________________________________________________________\n"
     ]
    }
   ],
   "source": [
    "model = Sequential()\n",
    "model.add(Conv2D(32, kernel_size=(5, 5), strides=(1, 1), padding='same',\n",
    "                 activation='relu',\n",
    "                 input_shape=(32, 32, 3)))\n",
    "model.add(MaxPooling2D(pool_size=(2, 2)))\n",
    "model.add(Conv2D(64, (5, 5), activation='relu', padding='same'))\n",
    "model.add(MaxPooling2D(pool_size=(2, 2)))\n",
    "model.add(Dropout(0.25))\n",
    "model.add(Flatten())\n",
    "model.add(Dense(1024, activation='relu'))\n",
    "model.add(Dropout(0.5))\n",
    "model.add(Dense(num_classes, activation='softmax'))\n",
    "model.summary()"
   ]
  },
  {
   "cell_type": "code",
   "execution_count": 12,
   "metadata": {},
   "outputs": [],
   "source": [
    "model.compile(loss='categorical_crossentropy', optimizer='sgd', metrics=['accuracy'])\n",
    "# model.compile(loss='categorical_crossentropy', optimizer=adam(lr=0.0005), metrics=['accuracy'])"
   ]
  },
  {
   "cell_type": "markdown",
   "metadata": {},
   "source": [
    "## 6. Training"
   ]
  },
  {
   "cell_type": "code",
   "execution_count": 14,
   "metadata": {
    "scrolled": false
   },
   "outputs": [
    {
     "name": "stdout",
     "output_type": "stream",
     "text": [
      "Epoch 1/100\n",
      "4685/4685 [==============================] - 164s 35ms/step - loss: 1.4162 - accuracy: 0.3870 - val_loss: 0.7104 - val_accuracy: 0.5500\n",
      "Epoch 2/100\n",
      "4685/4685 [==============================] - 174s 37ms/step - loss: 1.2477 - accuracy: 0.4905 - val_loss: 1.2013 - val_accuracy: 0.5500\n",
      "Epoch 3/100\n",
      "4685/4685 [==============================] - 199s 42ms/step - loss: 1.1661 - accuracy: 0.5381 - val_loss: 2.2744 - val_accuracy: 0.6000\n",
      "Epoch 4/100\n",
      "4685/4685 [==============================] - 181s 39ms/step - loss: 1.1140 - accuracy: 0.5584 - val_loss: 0.4183 - val_accuracy: 0.5000\n",
      "Epoch 5/100\n",
      "4685/4685 [==============================] - 168s 36ms/step - loss: 1.0744 - accuracy: 0.5793 - val_loss: 0.8434 - val_accuracy: 0.4500\n",
      "Epoch 6/100\n",
      "4685/4685 [==============================] - 162s 35ms/step - loss: 1.0548 - accuracy: 0.5795 - val_loss: 2.0178 - val_accuracy: 0.7000\n",
      "Epoch 7/100\n",
      "4685/4685 [==============================] - 160s 34ms/step - loss: 1.0155 - accuracy: 0.6006 - val_loss: 0.7143 - val_accuracy: 0.7000\n",
      "Epoch 8/100\n",
      "4685/4685 [==============================] - 165s 35ms/step - loss: 0.9953 - accuracy: 0.6105 - val_loss: 3.6152 - val_accuracy: 0.4500\n",
      "Epoch 9/100\n",
      "4685/4685 [==============================] - 164s 35ms/step - loss: 0.9577 - accuracy: 0.6218 - val_loss: 1.3218 - val_accuracy: 0.8500\n",
      "Epoch 10/100\n",
      "4685/4685 [==============================] - 165s 35ms/step - loss: 0.9397 - accuracy: 0.6384 - val_loss: 0.7171 - val_accuracy: 0.6500\n",
      "Epoch 11/100\n",
      "4685/4685 [==============================] - 166s 36ms/step - loss: 0.9325 - accuracy: 0.6322 - val_loss: 0.0258 - val_accuracy: 0.6500\n",
      "Epoch 12/100\n",
      "4685/4685 [==============================] - 169s 36ms/step - loss: 0.9175 - accuracy: 0.6384 - val_loss: 0.0344 - val_accuracy: 0.5000\n",
      "Epoch 13/100\n",
      "4685/4685 [==============================] - 175s 37ms/step - loss: 0.9114 - accuracy: 0.6453 - val_loss: 0.2874 - val_accuracy: 0.6500\n",
      "Epoch 14/100\n",
      "4685/4685 [==============================] - 174s 37ms/step - loss: 0.9056 - accuracy: 0.6514 - val_loss: 0.0700 - val_accuracy: 0.5000\n",
      "Epoch 15/100\n",
      "4685/4685 [==============================] - 165s 35ms/step - loss: 0.8753 - accuracy: 0.6581 - val_loss: 1.0338 - val_accuracy: 0.7500\n",
      "Epoch 16/100\n",
      "4685/4685 [==============================] - 162s 35ms/step - loss: 0.8781 - accuracy: 0.6674 - val_loss: 0.3017 - val_accuracy: 0.6000\n",
      "Epoch 17/100\n",
      "4685/4685 [==============================] - 152s 32ms/step - loss: 0.8390 - accuracy: 0.6845 - val_loss: 1.5133 - val_accuracy: 0.5500\n",
      "Epoch 18/100\n",
      "4685/4685 [==============================] - 155s 33ms/step - loss: 0.8296 - accuracy: 0.6922 - val_loss: 0.4691 - val_accuracy: 0.7000\n",
      "Epoch 19/100\n",
      "4685/4685 [==============================] - 153s 33ms/step - loss: 0.8369 - accuracy: 0.6747 - val_loss: 1.1393 - val_accuracy: 0.6000\n",
      "Epoch 20/100\n",
      "4685/4685 [==============================] - 155s 33ms/step - loss: 0.8257 - accuracy: 0.6826 - val_loss: 7.1165e-05 - val_accuracy: 0.6000\n",
      "Epoch 21/100\n",
      "4685/4685 [==============================] - 155s 33ms/step - loss: 0.8334 - accuracy: 0.6924 - val_loss: 4.4658e-04 - val_accuracy: 0.8500\n",
      "Epoch 22/100\n",
      "4685/4685 [==============================] - 187s 40ms/step - loss: 0.8113 - accuracy: 0.6963 - val_loss: 0.8981 - val_accuracy: 0.7000\n",
      "Epoch 23/100\n",
      "4685/4685 [==============================] - 173s 37ms/step - loss: 0.7895 - accuracy: 0.7018 - val_loss: 9.5632e-04 - val_accuracy: 0.6500\n",
      "Epoch 24/100\n",
      "4685/4685 [==============================] - 173s 37ms/step - loss: 0.7910 - accuracy: 0.7042 - val_loss: 0.0184 - val_accuracy: 0.5500\n",
      "Epoch 25/100\n",
      "4685/4685 [==============================] - 171s 37ms/step - loss: 0.7810 - accuracy: 0.7095 - val_loss: 0.0123 - val_accuracy: 0.6000\n",
      "Epoch 26/100\n",
      "4685/4685 [==============================] - 168s 36ms/step - loss: 0.7910 - accuracy: 0.7037 - val_loss: 1.6841 - val_accuracy: 0.7000\n",
      "Epoch 27/100\n",
      "4685/4685 [==============================] - 167s 36ms/step - loss: 0.7595 - accuracy: 0.7076 - val_loss: 0.0317 - val_accuracy: 0.7000\n",
      "Epoch 28/100\n",
      "4685/4685 [==============================] - 170s 36ms/step - loss: 0.7529 - accuracy: 0.7204 - val_loss: 1.8526 - val_accuracy: 0.7500\n",
      "Epoch 29/100\n",
      "4685/4685 [==============================] - 169s 36ms/step - loss: 0.7500 - accuracy: 0.7144 - val_loss: 0.9593 - val_accuracy: 0.6500\n",
      "Epoch 30/100\n",
      "4685/4685 [==============================] - 168s 36ms/step - loss: 0.7555 - accuracy: 0.7157 - val_loss: 0.0447 - val_accuracy: 0.6000\n",
      "Epoch 31/100\n",
      "4685/4685 [==============================] - 170s 36ms/step - loss: 0.7404 - accuracy: 0.7313 - val_loss: 1.5113 - val_accuracy: 0.7000\n",
      "Epoch 32/100\n",
      "4685/4685 [==============================] - 169s 36ms/step - loss: 0.7213 - accuracy: 0.7345 - val_loss: 1.6689e-05 - val_accuracy: 0.6500\n",
      "Epoch 33/100\n",
      "4685/4685 [==============================] - 169s 36ms/step - loss: 0.7615 - accuracy: 0.7187 - val_loss: 0.1205 - val_accuracy: 0.6000\n",
      "Epoch 34/100\n",
      "4685/4685 [==============================] - 169s 36ms/step - loss: 0.7226 - accuracy: 0.7285 - val_loss: 0.3754 - val_accuracy: 0.8500\n",
      "Epoch 35/100\n",
      "4685/4685 [==============================] - 168s 36ms/step - loss: 0.7574 - accuracy: 0.7225 - val_loss: 8.7853e-05 - val_accuracy: 0.8500\n",
      "Epoch 36/100\n",
      "4685/4685 [==============================] - 169s 36ms/step - loss: 0.7031 - accuracy: 0.7362 - val_loss: 8.2340e-04 - val_accuracy: 0.6500\n",
      "Epoch 37/100\n",
      "4685/4685 [==============================] - 172s 37ms/step - loss: 0.7028 - accuracy: 0.7319 - val_loss: 0.0497 - val_accuracy: 0.6500\n",
      "Epoch 38/100\n",
      "4685/4685 [==============================] - 165s 35ms/step - loss: 0.6963 - accuracy: 0.7445 - val_loss: 3.9319e-04 - val_accuracy: 0.7500\n",
      "Epoch 39/100\n",
      "4685/4685 [==============================] - 166s 35ms/step - loss: 0.7204 - accuracy: 0.7392 - val_loss: 3.2847 - val_accuracy: 0.4500\n",
      "Epoch 40/100\n",
      "4685/4685 [==============================] - 164s 35ms/step - loss: 0.6991 - accuracy: 0.7513 - val_loss: 1.1573 - val_accuracy: 0.6500\n",
      "Epoch 41/100\n",
      "4685/4685 [==============================] - 179s 38ms/step - loss: 0.7372 - accuracy: 0.7251 - val_loss: 1.2708 - val_accuracy: 0.8000\n",
      "Epoch 42/100\n",
      "4685/4685 [==============================] - 183s 39ms/step - loss: 0.6921 - accuracy: 0.7535 - val_loss: 0.2747 - val_accuracy: 0.8000\n",
      "Epoch 43/100\n",
      "4685/4685 [==============================] - 183s 39ms/step - loss: 0.7201 - accuracy: 0.7443 - val_loss: 0.2203 - val_accuracy: 0.7500\n",
      "Epoch 44/100\n",
      "4685/4685 [==============================] - 179s 38ms/step - loss: 0.6800 - accuracy: 0.7550 - val_loss: 2.5245e-04 - val_accuracy: 0.7000\n",
      "Epoch 45/100\n",
      "4685/4685 [==============================] - 164s 35ms/step - loss: 0.6542 - accuracy: 0.7533 - val_loss: 4.1153 - val_accuracy: 0.7000\n",
      "Epoch 46/100\n",
      "4685/4685 [==============================] - 165s 35ms/step - loss: 0.6638 - accuracy: 0.7626 - val_loss: 0.5772 - val_accuracy: 0.6000\n",
      "Epoch 47/100\n",
      "4685/4685 [==============================] - 164s 35ms/step - loss: 0.6951 - accuracy: 0.7511 - val_loss: 1.0600 - val_accuracy: 0.7000\n",
      "Epoch 48/100\n",
      "4685/4685 [==============================] - 165s 35ms/step - loss: 0.6809 - accuracy: 0.7533 - val_loss: 0.5704 - val_accuracy: 0.7000\n",
      "Epoch 49/100\n",
      "4685/4685 [==============================] - 161s 34ms/step - loss: 0.6799 - accuracy: 0.7526 - val_loss: 0.6039 - val_accuracy: 0.6000\n",
      "Epoch 50/100\n",
      "4685/4685 [==============================] - 161s 34ms/step - loss: 0.6932 - accuracy: 0.7554 - val_loss: 1.0507 - val_accuracy: 0.7500\n",
      "Epoch 51/100\n",
      "4685/4685 [==============================] - 161s 34ms/step - loss: 0.7045 - accuracy: 0.7494 - val_loss: 5.3153e-04 - val_accuracy: 0.8500\n",
      "Epoch 52/100\n",
      "4685/4685 [==============================] - 162s 35ms/step - loss: 0.6564 - accuracy: 0.7693 - val_loss: 0.0048 - val_accuracy: 0.7500\n",
      "Epoch 53/100\n",
      "4685/4685 [==============================] - 163s 35ms/step - loss: 0.6434 - accuracy: 0.7626 - val_loss: 0.7081 - val_accuracy: 0.8000\n",
      "Epoch 54/100\n",
      "4685/4685 [==============================] - 163s 35ms/step - loss: 0.7055 - accuracy: 0.7575 - val_loss: 0.0616 - val_accuracy: 0.6500\n",
      "Epoch 55/100\n",
      "4685/4685 [==============================] - 164s 35ms/step - loss: 0.6664 - accuracy: 0.7614 - val_loss: 0.2758 - val_accuracy: 0.7000\n"
     ]
    },
    {
     "name": "stdout",
     "output_type": "stream",
     "text": [
      "Epoch 56/100\n",
      "4685/4685 [==============================] - 163s 35ms/step - loss: 0.6746 - accuracy: 0.7562 - val_loss: 0.0205 - val_accuracy: 0.8000\n",
      "Epoch 57/100\n",
      "4685/4685 [==============================] - 165s 35ms/step - loss: 0.6617 - accuracy: 0.7654 - val_loss: 0.7363 - val_accuracy: 0.9500\n",
      "Epoch 58/100\n",
      "4685/4685 [==============================] - 149s 32ms/step - loss: 0.6790 - accuracy: 0.7562 - val_loss: 0.5115 - val_accuracy: 0.7500\n",
      "Epoch 59/100\n",
      "4685/4685 [==============================] - 146s 31ms/step - loss: 0.6699 - accuracy: 0.7601 - val_loss: 7.3073e-05 - val_accuracy: 0.7500\n",
      "Epoch 60/100\n",
      "4685/4685 [==============================] - 145s 31ms/step - loss: 0.6728 - accuracy: 0.7560 - val_loss: 9.1511e-04 - val_accuracy: 0.8000\n",
      "Epoch 61/100\n",
      "4685/4685 [==============================] - 145s 31ms/step - loss: 0.7153 - accuracy: 0.7458 - val_loss: 0.7144 - val_accuracy: 0.6000\n",
      "Epoch 62/100\n",
      "4685/4685 [==============================] - 145s 31ms/step - loss: 0.7385 - accuracy: 0.7449 - val_loss: 0.9026 - val_accuracy: 0.6500\n",
      "Epoch 63/100\n",
      "4685/4685 [==============================] - 144s 31ms/step - loss: 0.7104 - accuracy: 0.7577 - val_loss: 0.0202 - val_accuracy: 0.7000\n",
      "Epoch 64/100\n",
      "4685/4685 [==============================] - 144s 31ms/step - loss: 0.7108 - accuracy: 0.7481 - val_loss: 0.1164 - val_accuracy: 0.8500\n",
      "Epoch 65/100\n",
      "4685/4685 [==============================] - 144s 31ms/step - loss: 0.6761 - accuracy: 0.7575 - val_loss: 1.6536 - val_accuracy: 0.6500\n",
      "Epoch 66/100\n",
      "4685/4685 [==============================] - 145s 31ms/step - loss: 0.7005 - accuracy: 0.7558 - val_loss: 1.2750 - val_accuracy: 0.5000\n",
      "Epoch 67/100\n",
      "4685/4685 [==============================] - 145s 31ms/step - loss: 0.6896 - accuracy: 0.7558 - val_loss: 0.0450 - val_accuracy: 0.7500\n",
      "Epoch 68/100\n",
      "4685/4685 [==============================] - 145s 31ms/step - loss: 0.7099 - accuracy: 0.7584 - val_loss: 0.8971 - val_accuracy: 0.6000\n",
      "Epoch 69/100\n",
      "4685/4685 [==============================] - 144s 31ms/step - loss: 0.6795 - accuracy: 0.7658 - val_loss: 0.0000e+00 - val_accuracy: 0.7500\n",
      "Epoch 70/100\n",
      "4685/4685 [==============================] - 145s 31ms/step - loss: 0.6685 - accuracy: 0.7703 - val_loss: 0.7911 - val_accuracy: 0.7500\n",
      "Epoch 71/100\n",
      "4685/4685 [==============================] - 144s 31ms/step - loss: 0.6657 - accuracy: 0.7744 - val_loss: 0.6447 - val_accuracy: 0.7000\n",
      "Epoch 72/100\n",
      "4685/4685 [==============================] - 145s 31ms/step - loss: 0.6523 - accuracy: 0.7744 - val_loss: 0.0841 - val_accuracy: 0.7500\n",
      "Epoch 73/100\n",
      "4685/4685 [==============================] - 145s 31ms/step - loss: 0.7259 - accuracy: 0.7496 - val_loss: 0.9058 - val_accuracy: 0.8500\n",
      "Epoch 74/100\n",
      "4685/4685 [==============================] - 144s 31ms/step - loss: 0.7105 - accuracy: 0.7547 - val_loss: 1.4359 - val_accuracy: 0.8000\n",
      "Epoch 75/100\n",
      "4685/4685 [==============================] - 145s 31ms/step - loss: 0.7345 - accuracy: 0.7475 - val_loss: 0.2427 - val_accuracy: 0.7000\n",
      "Epoch 76/100\n",
      "4685/4685 [==============================] - 145s 31ms/step - loss: 0.6572 - accuracy: 0.7708 - val_loss: 0.0243 - val_accuracy: 0.8000\n",
      "Epoch 77/100\n",
      "4685/4685 [==============================] - 144s 31ms/step - loss: 0.6528 - accuracy: 0.7691 - val_loss: 1.4120 - val_accuracy: 0.7000\n",
      "Epoch 78/100\n",
      "4685/4685 [==============================] - 145s 31ms/step - loss: 0.6842 - accuracy: 0.7729 - val_loss: 1.7220 - val_accuracy: 0.7500\n",
      "Epoch 79/100\n",
      "4685/4685 [==============================] - 144s 31ms/step - loss: 0.6660 - accuracy: 0.7665 - val_loss: 0.0099 - val_accuracy: 0.6000\n",
      "Epoch 80/100\n",
      "4685/4685 [==============================] - 144s 31ms/step - loss: 0.7200 - accuracy: 0.7541 - val_loss: 4.9642 - val_accuracy: 0.6000\n",
      "Epoch 81/100\n",
      "4685/4685 [==============================] - 144s 31ms/step - loss: 0.7064 - accuracy: 0.7575 - val_loss: 0.0000e+00 - val_accuracy: 0.5000\n",
      "Epoch 82/100\n",
      "4685/4685 [==============================] - 145s 31ms/step - loss: 0.7155 - accuracy: 0.7575 - val_loss: 0.0049 - val_accuracy: 0.7000\n",
      "Epoch 83/100\n",
      "4685/4685 [==============================] - 145s 31ms/step - loss: 0.7437 - accuracy: 0.7483 - val_loss: 0.2968 - val_accuracy: 0.6000\n",
      "Epoch 84/100\n",
      "4685/4685 [==============================] - 145s 31ms/step - loss: 0.6809 - accuracy: 0.7708 - val_loss: 1.3989 - val_accuracy: 0.7000\n",
      "Epoch 85/100\n",
      "4685/4685 [==============================] - 145s 31ms/step - loss: 0.7126 - accuracy: 0.7528 - val_loss: 0.4865 - val_accuracy: 0.9000\n",
      "Epoch 86/100\n",
      "4685/4685 [==============================] - 145s 31ms/step - loss: 0.6671 - accuracy: 0.7763 - val_loss: 0.5325 - val_accuracy: 0.6500\n",
      "Epoch 87/100\n",
      "4685/4685 [==============================] - 145s 31ms/step - loss: 0.6997 - accuracy: 0.7678 - val_loss: 0.0224 - val_accuracy: 0.8000\n",
      "Epoch 88/100\n",
      "4685/4685 [==============================] - 145s 31ms/step - loss: 0.7258 - accuracy: 0.7601 - val_loss: 0.3725 - val_accuracy: 0.6500\n",
      "Epoch 89/100\n",
      "4685/4685 [==============================] - 144s 31ms/step - loss: 0.6853 - accuracy: 0.7614 - val_loss: 0.0293 - val_accuracy: 0.6000\n",
      "Epoch 90/100\n",
      "4685/4685 [==============================] - 144s 31ms/step - loss: 0.6501 - accuracy: 0.7757 - val_loss: 0.0032 - val_accuracy: 0.6000\n",
      "Epoch 91/100\n",
      "4685/4685 [==============================] - 145s 31ms/step - loss: 0.7923 - accuracy: 0.7488 - val_loss: 2.1110 - val_accuracy: 0.4000\n",
      "Epoch 92/100\n",
      "4685/4685 [==============================] - 145s 31ms/step - loss: 0.7184 - accuracy: 0.7601 - val_loss: 2.8122 - val_accuracy: 0.5000\n",
      "Epoch 93/100\n",
      "4685/4685 [==============================] - 145s 31ms/step - loss: 0.7553 - accuracy: 0.7498 - val_loss: 0.0029 - val_accuracy: 0.7000\n",
      "Epoch 94/100\n",
      "4685/4685 [==============================] - 144s 31ms/step - loss: 0.7272 - accuracy: 0.7550 - val_loss: 0.4279 - val_accuracy: 0.6500\n",
      "Epoch 95/100\n",
      "4685/4685 [==============================] - 144s 31ms/step - loss: 0.7090 - accuracy: 0.7605 - val_loss: 2.2889 - val_accuracy: 0.5000\n",
      "Epoch 96/100\n",
      "4685/4685 [==============================] - 144s 31ms/step - loss: 0.7021 - accuracy: 0.7624 - val_loss: 0.0356 - val_accuracy: 0.7000\n",
      "Epoch 97/100\n",
      "4685/4685 [==============================] - 145s 31ms/step - loss: 0.7050 - accuracy: 0.7620 - val_loss: 0.0000e+00 - val_accuracy: 0.8000\n",
      "Epoch 98/100\n",
      "4685/4685 [==============================] - 145s 31ms/step - loss: 0.6847 - accuracy: 0.7735 - val_loss: 0.3750 - val_accuracy: 0.6500\n",
      "Epoch 99/100\n",
      "4685/4685 [==============================] - 145s 31ms/step - loss: 0.7409 - accuracy: 0.7528 - val_loss: 0.9603 - val_accuracy: 0.6000\n",
      "Epoch 100/100\n",
      "4685/4685 [==============================] - 144s 31ms/step - loss: 0.7670 - accuracy: 0.7460 - val_loss: 0.0939 - val_accuracy: 0.6500\n",
      "Wall time: 4h 23min 2s\n"
     ]
    }
   ],
   "source": [
    "%%time\n",
    "history = model.fit_generator(\n",
    "    train_generator,\n",
    "    steps_per_epoch = 4685//batch_size,\n",
    "    epochs=epochs,\n",
    "    validation_data = validation_generator,\n",
    "    validation_steps=20)"
   ]
  },
  {
   "cell_type": "markdown",
   "metadata": {},
   "source": [
    "## 7. Accuracy Analysis and Visualization"
   ]
  },
  {
   "cell_type": "code",
   "execution_count": 15,
   "metadata": {},
   "outputs": [],
   "source": [
    "def plot_accuracy_and_loss(history):\n",
    "    plt.figure(1, figsize= (15, 10))\n",
    "\n",
    "    # plot train and test accuracy\n",
    "    plt.subplot(221)\n",
    "    plt.plot(history.history['accuracy'])\n",
    "    plt.plot(history.history['val_accuracy'])\n",
    "    plt.title('Baseline CNN Accuracy')\n",
    "    plt.ylabel('accuracy')\n",
    "    plt.xlabel('epoch')\n",
    "    plt.legend(['train', 'test'], loc='upper left')\n",
    "\n",
    "    # plot train and test loss\n",
    "    plt.subplot(222)\n",
    "    plt.plot(history.history['loss'])\n",
    "    plt.plot(history.history['val_loss'])\n",
    "    plt.title('Baseline CNN loss')\n",
    "    plt.ylabel('loss')\n",
    "    plt.xlabel('epoch')\n",
    "    plt.legend(['train', 'test'], loc='upper right')\n",
    "\n",
    "    plt.show()"
   ]
  },
  {
   "cell_type": "code",
   "execution_count": 16,
   "metadata": {
    "scrolled": true
   },
   "outputs": [
    {
     "data": {
      "image/png": "[encoded data removed]",
      "text/plain": [
       "<Figure size 1080x720 with 2 Axes>"
      ]
     },
     "metadata": {
      "needs_background": "light"
     },
     "output_type": "display_data"
    }
   ],
   "source": [
    "plot_accuracy_and_loss(history)"
   ]
  },
  {
   "cell_type": "code",
   "execution_count": 17,
   "metadata": {
    "scrolled": false
   },
   "outputs": [
    {
     "name": "stdout",
     "output_type": "stream",
     "text": [
      "-- Evaluate --\n",
      "accuracy: 80.00%\n",
      "accuracy: 80.00%\n",
      "-- Predict --\n",
      "{'daisy': 0, 'dandelion': 1, 'roses': 2, 'sunflowers': 3, 'tulips': 4}\n",
      "[[0.000 0.007 0.018 0.000 0.974]\n",
      " [0.013 0.100 0.861 0.000 0.026]\n",
      " [0.380 0.016 0.571 0.006 0.027]\n",
      " [0.058 0.297 0.465 0.014 0.166]\n",
      " [0.035 0.059 0.314 0.058 0.534]]\n",
      "{'daisy': 0, 'dandelion': 1, 'roses': 2, 'sunflowers': 3, 'tulips': 4}\n",
      "[[0.334 0.182 0.027 0.247 0.210]\n",
      " [0.000 0.000 0.000 0.000 1.000]\n",
      " [0.082 0.015 0.141 0.009 0.754]\n",
      " [1.000 0.000 0.000 0.000 0.000]\n",
      " [0.027 0.012 0.473 0.230 0.259]]\n"
     ]
    }
   ],
   "source": [
    "print(\"-- Evaluate --\")\n",
    "\n",
    "scores_train = model.evaluate_generator(\n",
    "            train_generator, \n",
    "            steps = 5)\n",
    "scores_val = model.evaluate_generator(\n",
    "            validation_generator, \n",
    "            steps = 5)\n",
    "\n",
    "print(\"%s: %.2f%%\" %(model.metrics_names[1], scores_train[1]*100))\n",
    "print(\"%s: %.2f%%\" %(model.metrics_names[1], scores_val[1]*100))\n",
    "\n",
    "print(\"-- Predict --\")\n",
    "output_train = model.predict_generator(train_generator, steps=5)\n",
    "output_val = model.predict_generator(validation_generator, steps=5)\n",
    "np.set_printoptions(formatter={'float': lambda x: \"{0:0.3f}\".format(x)})\n",
    "\n",
    "print(train_generator.class_indices)\n",
    "print(output_train)\n",
    "\n",
    "print(validation_generator.class_indices)\n",
    "print(output_val)"
   ]
  },
  {
   "cell_type": "markdown",
   "metadata": {},
   "source": [
    "## 8. Save and Load model"
   ]
  },
  {
   "cell_type": "code",
   "execution_count": 18,
   "metadata": {},
   "outputs": [],
   "source": [
    "# save model architecture\n",
    "model_json = model.to_json()\n",
    "open('5_model.json', 'w').write(model_json)\n",
    "\n",
    "# save model's learned weights\n",
    "model.save_weights('5_weights.h5', overwrite=True)"
   ]
  },
  {
   "cell_type": "code",
   "execution_count": 19,
   "metadata": {},
   "outputs": [
    {
     "name": "stdout",
     "output_type": "stream",
     "text": [
      "Loaded model from disk\n"
     ]
    }
   ],
   "source": [
    "# Load trained model\n",
    "from keras.models import model_from_json \n",
    "\n",
    "json_file = open(\"5_model.json\", \"r\")\n",
    "loaded_model_json = json_file.read() \n",
    "json_file.close()\n",
    "loaded_model = model_from_json(loaded_model_json)\n",
    " \n",
    "# model weight load \n",
    "loaded_model.load_weights(\"5_weights.h5\")\n",
    "print(\"Loaded model from disk\")"
   ]
  }
 ],
 "metadata": {
  "kernelspec": {
   "display_name": "Python 3",
   "language": "python",
   "name": "python3"
  },
  "language_info": {
   "codemirror_mode": {
    "name": "ipython",
    "version": 3
   },
   "file_extension": ".py",
   "mimetype": "text/x-python",
   "name": "python",
   "nbconvert_exporter": "python",
   "pygments_lexer": "ipython3",
   "version": "3.7.7"
  }
 },
 "nbformat": 4,
 "nbformat_minor": 4
}
