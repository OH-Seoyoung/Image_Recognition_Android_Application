{
 "cells": [
  {
   "cell_type": "markdown",
   "metadata": {},
   "source": [
    "# Image recognition android application project\n",
    "- Flower image classification with Baseline CNN (20200823)  \n",
    "- 4685 training set with 5 class, 100 iterations, 64 batch\n",
    "### Reference\n",
    "- [Advanced Computer Vision with TensorFlow], https://stephan-osterburg.gitbook.io/coding/coding/ml-dl/tensorfow"
   ]
  },
  {
   "cell_type": "markdown",
   "metadata": {},
   "source": [
    "## 1. Import packages"
   ]
  },
  {
   "cell_type": "code",
   "execution_count": 2,
   "metadata": {},
   "outputs": [],
   "source": [
    "from __future__ import absolute_import\n",
    "from __future__ import division\n",
    "from __future__ import print_function\n",
    "\n",
    "import os\n",
    "import sys\n",
    "import tarfile\n",
    "import glob\n",
    "from six.moves import urllib\n",
    "from glob import glob\n",
    "import random\n",
    "import shutil\n",
    "\n",
    "import keras\n",
    "from keras.models import Sequential\n",
    "from keras.layers import Dense, Dropout, Flatten\n",
    "from keras.layers.convolutional import Conv2D, MaxPooling2D\n",
    "from keras.models import load_model\n",
    "import tensorflow.compat.v1 as tf\n",
    "tf.disable_v2_behavior()\n",
    "\n",
    "import numpy as np\n",
    "import matplotlib\n",
    "import matplotlib.pyplot as plt"
   ]
  },
  {
   "cell_type": "markdown",
   "metadata": {},
   "source": [
    "## 2. Load and Explore the Flower Dataset"
   ]
  },
  {
   "cell_type": "code",
   "execution_count": 3,
   "metadata": {},
   "outputs": [],
   "source": [
    "def load_data_files(base_dir):\n",
    "    folder_name = \"dataset/flower_photos\"\n",
    "    RAW_DATASET = os.path.join(base_dir, folder_name)\n",
    "\n",
    "    abs_dir = os.path.join(os.getcwd(), folder_name)\n",
    "    sub_dir = os.listdir(abs_dir)\n",
    "    data_dic = {}\n",
    "    \n",
    "    for class_name  in sub_dir:\n",
    "        imgs = glob(os.path.join(RAW_DATASET,class_name,\"*.jpg\"))\n",
    "\n",
    "        data_dic[class_name] = imgs\n",
    "        print(\"Class: {}\".format(class_name))\n",
    "        print(\"Number of images: {} \\n\".format(len(imgs)))\n",
    "\n",
    "    return data_dic"
   ]
  },
  {
   "cell_type": "code",
   "execution_count": 4,
   "metadata": {
    "scrolled": true
   },
   "outputs": [
    {
     "name": "stdout",
     "output_type": "stream",
     "text": [
      "Class: daisy\n",
      "Number of images: 1020 \n",
      "\n",
      "Class: dandelion\n",
      "Number of images: 1277 \n",
      "\n",
      "Class: roses\n",
      "Number of images: 1124 \n",
      "\n",
      "Class: sunflowers\n",
      "Number of images: 1158 \n",
      "\n",
      "Class: tulips\n",
      "Number of images: 1275 \n",
      "\n"
     ]
    }
   ],
   "source": [
    "BASE_DIR = os.getcwd()\n",
    "data_dic = load_data_files(BASE_DIR)"
   ]
  },
  {
   "cell_type": "markdown",
   "metadata": {},
   "source": [
    "## 3. Split train and validation dataset"
   ]
  },
  {
   "cell_type": "code",
   "execution_count": 5,
   "metadata": {},
   "outputs": [],
   "source": [
    "# Create new directory and copy files to it\n",
    "def copy_files_to_directory(files, directory):\n",
    "    if not os.path.exists(directory):\n",
    "        os.makedirs(directory)\n",
    "        print(\"Created directory: {}\".format(directory))\n",
    "\n",
    "    for f in files:\n",
    "        shutil.copy(f, directory)\n",
    "    print(\"Copied {} files.\\n\".format(len(files)))"
   ]
  },
  {
   "cell_type": "code",
   "execution_count": 6,
   "metadata": {},
   "outputs": [],
   "source": [
    "def train_validation_split(base_dir, data_dic, split_ratio=0.2):\n",
    "    FLOWER_DATASET = os.path.join(base_dir,\"flower_dataset\")\n",
    "\n",
    "    if not os.path.exists(FLOWER_DATASET):\n",
    "        os.makedirs(FLOWER_DATASET)\n",
    "\n",
    "    for class_name, imgs in data_dic.items():\n",
    "        idx_split = int(len(imgs) * split_ratio)\n",
    "        random.shuffle(imgs)\n",
    "        validation = imgs[:idx_split]\n",
    "        train = imgs[idx_split:]\n",
    "\n",
    "        copy_files_to_directory(train, os.path.join(FLOWER_DATASET,\"train\",class_name))\n",
    "        copy_files_to_directory(validation, os.path.join(FLOWER_DATASET,\"validation\",class_name))"
   ]
  },
  {
   "cell_type": "code",
   "execution_count": 7,
   "metadata": {
    "scrolled": true
   },
   "outputs": [
    {
     "name": "stdout",
     "output_type": "stream",
     "text": [
      "Created directory: C:\\Users\\eilee\\Desktop\\Trinity\\어플 프로젝트\\20200823_Model_Selection_with_more_data\\flower_dataset\\train\\daisy\n",
      "Copied 816 files.\n",
      "\n",
      "Created directory: C:\\Users\\eilee\\Desktop\\Trinity\\어플 프로젝트\\20200823_Model_Selection_with_more_data\\flower_dataset\\validation\\daisy\n",
      "Copied 204 files.\n",
      "\n",
      "Created directory: C:\\Users\\eilee\\Desktop\\Trinity\\어플 프로젝트\\20200823_Model_Selection_with_more_data\\flower_dataset\\train\\dandelion\n",
      "Copied 1022 files.\n",
      "\n",
      "Created directory: C:\\Users\\eilee\\Desktop\\Trinity\\어플 프로젝트\\20200823_Model_Selection_with_more_data\\flower_dataset\\validation\\dandelion\n",
      "Copied 255 files.\n",
      "\n",
      "Created directory: C:\\Users\\eilee\\Desktop\\Trinity\\어플 프로젝트\\20200823_Model_Selection_with_more_data\\flower_dataset\\train\\roses\n",
      "Copied 900 files.\n",
      "\n",
      "Created directory: C:\\Users\\eilee\\Desktop\\Trinity\\어플 프로젝트\\20200823_Model_Selection_with_more_data\\flower_dataset\\validation\\roses\n",
      "Copied 224 files.\n",
      "\n",
      "Created directory: C:\\Users\\eilee\\Desktop\\Trinity\\어플 프로젝트\\20200823_Model_Selection_with_more_data\\flower_dataset\\train\\sunflowers\n",
      "Copied 927 files.\n",
      "\n",
      "Created directory: C:\\Users\\eilee\\Desktop\\Trinity\\어플 프로젝트\\20200823_Model_Selection_with_more_data\\flower_dataset\\validation\\sunflowers\n",
      "Copied 231 files.\n",
      "\n",
      "Created directory: C:\\Users\\eilee\\Desktop\\Trinity\\어플 프로젝트\\20200823_Model_Selection_with_more_data\\flower_dataset\\train\\tulips\n",
      "Copied 1020 files.\n",
      "\n",
      "Created directory: C:\\Users\\eilee\\Desktop\\Trinity\\어플 프로젝트\\20200823_Model_Selection_with_more_data\\flower_dataset\\validation\\tulips\n",
      "Copied 255 files.\n",
      "\n"
     ]
    }
   ],
   "source": [
    "BASE_DIR = os.getcwd()\n",
    "\n",
    "train_validation_split(BASE_DIR, data_dic, split_ratio=0.2)"
   ]
  },
  {
   "cell_type": "markdown",
   "metadata": {},
   "source": [
    "## 4. Image preprocessing"
   ]
  },
  {
   "cell_type": "code",
   "execution_count": 14,
   "metadata": {},
   "outputs": [],
   "source": [
    "batch_size = 64\n",
    "num_classes = 5\n",
    "epochs = 100"
   ]
  },
  {
   "cell_type": "code",
   "execution_count": 9,
   "metadata": {},
   "outputs": [],
   "source": [
    "preprocessing_image = tf.keras.preprocessing.image\n",
    "\n",
    "train_datagen = preprocessing_image.ImageDataGenerator(\n",
    "    rescale=1./255,\n",
    "    shear_range=0.2,\n",
    "    zoom_range=0.2,\n",
    "    horizontal_flip=True)\n",
    "\n",
    "test_datagen = preprocessing_image.ImageDataGenerator(rescale=1./255)"
   ]
  },
  {
   "cell_type": "code",
   "execution_count": 10,
   "metadata": {
    "scrolled": false
   },
   "outputs": [
    {
     "name": "stdout",
     "output_type": "stream",
     "text": [
      "Found 4685 images belonging to 5 classes.\n",
      "Found 1169 images belonging to 5 classes.\n"
     ]
    }
   ],
   "source": [
    "BASE_DIR = os.getcwd()\n",
    "\n",
    "train_generator = train_datagen.flow_from_directory(\n",
    "    os.path.join(BASE_DIR, \"flower_dataset/train\"),\n",
    "    target_size=(32, 32),\n",
    "    batch_size=batch_size,\n",
    "    class_mode='categorical')\n",
    "\n",
    "validation_generator = test_datagen.flow_from_directory(\n",
    "    os.path.join(BASE_DIR, \"flower_dataset/validation\"),\n",
    "    target_size=(32, 32),\n",
    "    batch_size=batch_size,\n",
    "    class_mode='categorical')"
   ]
  },
  {
   "cell_type": "markdown",
   "metadata": {},
   "source": [
    "## 5. Baseline CNN model"
   ]
  },
  {
   "cell_type": "code",
   "execution_count": 16,
   "metadata": {
    "scrolled": false
   },
   "outputs": [
    {
     "name": "stdout",
     "output_type": "stream",
     "text": [
      "Model: \"sequential_2\"\n",
      "_________________________________________________________________\n",
      "Layer (type)                 Output Shape              Param #   \n",
      "=================================================================\n",
      "conv2d_3 (Conv2D)            (None, 32, 32, 32)        2432      \n",
      "_________________________________________________________________\n",
      "max_pooling2d_3 (MaxPooling2 (None, 16, 16, 32)        0         \n",
      "_________________________________________________________________\n",
      "conv2d_4 (Conv2D)            (None, 16, 16, 64)        51264     \n",
      "_________________________________________________________________\n",
      "max_pooling2d_4 (MaxPooling2 (None, 8, 8, 64)          0         \n",
      "_________________________________________________________________\n",
      "dropout_3 (Dropout)          (None, 8, 8, 64)          0         \n",
      "_________________________________________________________________\n",
      "flatten_2 (Flatten)          (None, 4096)              0         \n",
      "_________________________________________________________________\n",
      "dense_3 (Dense)              (None, 1024)              4195328   \n",
      "_________________________________________________________________\n",
      "dropout_4 (Dropout)          (None, 1024)              0         \n",
      "_________________________________________________________________\n",
      "dense_4 (Dense)              (None, 5)                 5125      \n",
      "=================================================================\n",
      "Total params: 4,254,149\n",
      "Trainable params: 4,254,149\n",
      "Non-trainable params: 0\n",
      "_________________________________________________________________\n"
     ]
    }
   ],
   "source": [
    "model = Sequential()\n",
    "model.add(Conv2D(32, kernel_size=(5, 5), strides=(1, 1), padding='same',\n",
    "                 activation='relu',\n",
    "                 input_shape=(32, 32, 3)))\n",
    "model.add(MaxPooling2D(pool_size=(2, 2)))\n",
    "model.add(Conv2D(64, (5, 5), activation='relu', padding='same'))\n",
    "model.add(MaxPooling2D(pool_size=(2, 2)))\n",
    "model.add(Dropout(0.25))\n",
    "model.add(Flatten())\n",
    "model.add(Dense(1024, activation='relu'))\n",
    "model.add(Dropout(0.5))\n",
    "model.add(Dense(num_classes, activation='softmax'))\n",
    "model.summary()"
   ]
  },
  {
   "cell_type": "code",
   "execution_count": 17,
   "metadata": {},
   "outputs": [],
   "source": [
    "model.compile(loss='categorical_crossentropy', optimizer='sgd', metrics=['accuracy'])\n",
    "# model.compile(loss='categorical_crossentropy', optimizer=adam(lr=0.0005), metrics=['accuracy'])"
   ]
  },
  {
   "cell_type": "markdown",
   "metadata": {},
   "source": [
    "## 6. Training"
   ]
  },
  {
   "cell_type": "code",
   "execution_count": 18,
   "metadata": {
    "scrolled": false
   },
   "outputs": [
    {
     "name": "stdout",
     "output_type": "stream",
     "text": [
      "Epoch 1/100\n",
      "73/73 [==============================] - 17s 240ms/step - loss: 1.5994 - accuracy: 0.2391 - val_loss: 1.5720 - val_accuracy: 0.3893\n",
      "Epoch 2/100\n",
      "73/73 [==============================] - 18s 247ms/step - loss: 1.5344 - accuracy: 0.3499 - val_loss: 1.5636 - val_accuracy: 0.4217\n",
      "Epoch 3/100\n",
      "73/73 [==============================] - 18s 243ms/step - loss: 1.4219 - accuracy: 0.3960 - val_loss: 1.3149 - val_accuracy: 0.4493\n",
      "Epoch 4/100\n",
      "73/73 [==============================] - 18s 250ms/step - loss: 1.3271 - accuracy: 0.4335 - val_loss: 1.1570 - val_accuracy: 0.4761\n",
      "Epoch 5/100\n",
      "73/73 [==============================] - 19s 264ms/step - loss: 1.2893 - accuracy: 0.4499 - val_loss: 1.1891 - val_accuracy: 0.4720\n",
      "Epoch 6/100\n",
      "73/73 [==============================] - 18s 240ms/step - loss: 1.2436 - accuracy: 0.4713 - val_loss: 1.2383 - val_accuracy: 0.4939\n",
      "Epoch 7/100\n",
      "73/73 [==============================] - 18s 243ms/step - loss: 1.2167 - accuracy: 0.4932 - val_loss: 1.2347 - val_accuracy: 0.5028\n",
      "Epoch 8/100\n",
      "73/73 [==============================] - 17s 238ms/step - loss: 1.1983 - accuracy: 0.5090 - val_loss: 1.1403 - val_accuracy: 0.5264\n",
      "Epoch 9/100\n",
      "73/73 [==============================] - 18s 244ms/step - loss: 1.1851 - accuracy: 0.5085 - val_loss: 1.2546 - val_accuracy: 0.5142\n",
      "Epoch 10/100\n",
      "73/73 [==============================] - 18s 247ms/step - loss: 1.1662 - accuracy: 0.5205 - val_loss: 1.2867 - val_accuracy: 0.5296\n",
      "Epoch 11/100\n",
      "73/73 [==============================] - 18s 243ms/step - loss: 1.1642 - accuracy: 0.5183 - val_loss: 1.0384 - val_accuracy: 0.5491\n",
      "Epoch 12/100\n",
      "73/73 [==============================] - 18s 243ms/step - loss: 1.1392 - accuracy: 0.5397 - val_loss: 1.1881 - val_accuracy: 0.4712\n",
      "Epoch 13/100\n",
      "73/73 [==============================] - 18s 242ms/step - loss: 1.1661 - accuracy: 0.5198 - val_loss: 1.0805 - val_accuracy: 0.5734\n",
      "Epoch 14/100\n",
      "73/73 [==============================] - 18s 245ms/step - loss: 1.1353 - accuracy: 0.5479 - val_loss: 1.0876 - val_accuracy: 0.5556\n",
      "Epoch 15/100\n",
      "73/73 [==============================] - 19s 258ms/step - loss: 1.1187 - accuracy: 0.5635 - val_loss: 0.8938 - val_accuracy: 0.5604\n",
      "Epoch 16/100\n",
      "73/73 [==============================] - 18s 252ms/step - loss: 1.1042 - accuracy: 0.5603 - val_loss: 1.3212 - val_accuracy: 0.5450\n",
      "Epoch 17/100\n",
      "73/73 [==============================] - 17s 233ms/step - loss: 1.1098 - accuracy: 0.5616 - val_loss: 0.9717 - val_accuracy: 0.5531\n",
      "Epoch 18/100\n",
      "73/73 [==============================] - 18s 250ms/step - loss: 1.1116 - accuracy: 0.5657 - val_loss: 1.0307 - val_accuracy: 0.5556\n",
      "Epoch 19/100\n",
      "73/73 [==============================] - 17s 233ms/step - loss: 1.1150 - accuracy: 0.5549 - val_loss: 0.9099 - val_accuracy: 0.5472\n",
      "Epoch 20/100\n",
      "73/73 [==============================] - 17s 234ms/step - loss: 1.0907 - accuracy: 0.5708 - val_loss: 1.0044 - val_accuracy: 0.5815\n",
      "Epoch 21/100\n",
      "73/73 [==============================] - 17s 227ms/step - loss: 1.0816 - accuracy: 0.5759 - val_loss: 1.0489 - val_accuracy: 0.5750\n",
      "Epoch 22/100\n",
      "73/73 [==============================] - 18s 245ms/step - loss: 1.0732 - accuracy: 0.5830 - val_loss: 1.1396 - val_accuracy: 0.5328\n",
      "Epoch 23/100\n",
      "73/73 [==============================] - 18s 253ms/step - loss: 1.0856 - accuracy: 0.5726 - val_loss: 0.9767 - val_accuracy: 0.5929\n",
      "Epoch 24/100\n",
      "73/73 [==============================] - 17s 233ms/step - loss: 1.0562 - accuracy: 0.5854 - val_loss: 1.1109 - val_accuracy: 0.5612\n",
      "Epoch 25/100\n",
      "73/73 [==============================] - 17s 233ms/step - loss: 1.0590 - accuracy: 0.5843 - val_loss: 1.1079 - val_accuracy: 0.5872\n",
      "Epoch 26/100\n",
      "73/73 [==============================] - 17s 239ms/step - loss: 1.0449 - accuracy: 0.6025 - val_loss: 1.1832 - val_accuracy: 0.5961\n",
      "Epoch 27/100\n",
      "73/73 [==============================] - 17s 230ms/step - loss: 1.0642 - accuracy: 0.5854 - val_loss: 0.9845 - val_accuracy: 0.5742\n",
      "Epoch 28/100\n",
      "73/73 [==============================] - 18s 241ms/step - loss: 1.0294 - accuracy: 0.6014 - val_loss: 1.1227 - val_accuracy: 0.6002\n",
      "Epoch 29/100\n",
      "73/73 [==============================] - 18s 240ms/step - loss: 1.0473 - accuracy: 0.6011 - val_loss: 0.9923 - val_accuracy: 0.5831\n",
      "Epoch 30/100\n",
      "73/73 [==============================] - 19s 255ms/step - loss: 1.0256 - accuracy: 0.6040 - val_loss: 1.0528 - val_accuracy: 0.5718\n",
      "Epoch 31/100\n",
      "73/73 [==============================] - 21s 284ms/step - loss: 1.0304 - accuracy: 0.5923 - val_loss: 1.0574 - val_accuracy: 0.5839\n",
      "Epoch 32/100\n",
      "73/73 [==============================] - 21s 283ms/step - loss: 1.0116 - accuracy: 0.6066 - val_loss: 1.0000 - val_accuracy: 0.6188\n",
      "Epoch 33/100\n",
      "73/73 [==============================] - 19s 267ms/step - loss: 1.0208 - accuracy: 0.6053 - val_loss: 0.9963 - val_accuracy: 0.6099\n",
      "Epoch 34/100\n",
      "73/73 [==============================] - 19s 254ms/step - loss: 0.9874 - accuracy: 0.6210 - val_loss: 1.1608 - val_accuracy: 0.5929\n",
      "Epoch 35/100\n",
      "73/73 [==============================] - 18s 250ms/step - loss: 1.0149 - accuracy: 0.6021 - val_loss: 1.0156 - val_accuracy: 0.6010\n",
      "Epoch 36/100\n",
      "73/73 [==============================] - 17s 238ms/step - loss: 0.9899 - accuracy: 0.6209 - val_loss: 1.2296 - val_accuracy: 0.5937\n",
      "Epoch 37/100\n",
      "73/73 [==============================] - 17s 238ms/step - loss: 0.9894 - accuracy: 0.6139 - val_loss: 0.9949 - val_accuracy: 0.6058\n",
      "Epoch 38/100\n",
      "73/73 [==============================] - 17s 240ms/step - loss: 0.9958 - accuracy: 0.6206 - val_loss: 1.2642 - val_accuracy: 0.6037\n",
      "Epoch 39/100\n",
      "73/73 [==============================] - 16s 222ms/step - loss: 0.9925 - accuracy: 0.6167 - val_loss: 0.8673 - val_accuracy: 0.6204\n",
      "Epoch 40/100\n",
      "73/73 [==============================] - 17s 228ms/step - loss: 0.9818 - accuracy: 0.6206 - val_loss: 1.0448 - val_accuracy: 0.6026\n",
      "Epoch 41/100\n",
      "73/73 [==============================] - 17s 233ms/step - loss: 0.9743 - accuracy: 0.6317 - val_loss: 0.8163 - val_accuracy: 0.6383\n",
      "Epoch 42/100\n",
      "73/73 [==============================] - 17s 236ms/step - loss: 0.9644 - accuracy: 0.6274 - val_loss: 0.8258 - val_accuracy: 0.6221\n",
      "Epoch 43/100\n",
      "73/73 [==============================] - 17s 234ms/step - loss: 0.9850 - accuracy: 0.6193 - val_loss: 1.0064 - val_accuracy: 0.6139\n",
      "Epoch 44/100\n",
      "73/73 [==============================] - 20s 267ms/step - loss: 0.9670 - accuracy: 0.6245 - val_loss: 0.8955 - val_accuracy: 0.6172\n",
      "Epoch 45/100\n",
      "73/73 [==============================] - 20s 279ms/step - loss: 0.9717 - accuracy: 0.6250 - val_loss: 1.0847 - val_accuracy: 0.6318\n",
      "Epoch 46/100\n",
      "73/73 [==============================] - 18s 253ms/step - loss: 0.9433 - accuracy: 0.6335 - val_loss: 0.7700 - val_accuracy: 0.6383\n",
      "Epoch 47/100\n",
      "73/73 [==============================] - 19s 260ms/step - loss: 0.9496 - accuracy: 0.6356 - val_loss: 1.0373 - val_accuracy: 0.6042\n",
      "Epoch 48/100\n",
      "73/73 [==============================] - 19s 266ms/step - loss: 0.9467 - accuracy: 0.6378 - val_loss: 0.9660 - val_accuracy: 0.5937\n",
      "Epoch 49/100\n",
      "73/73 [==============================] - 17s 238ms/step - loss: 0.9520 - accuracy: 0.6370 - val_loss: 1.1599 - val_accuracy: 0.5880\n",
      "Epoch 50/100\n",
      "73/73 [==============================] - 17s 238ms/step - loss: 0.9299 - accuracy: 0.6421 - val_loss: 1.0983 - val_accuracy: 0.6253\n",
      "Epoch 51/100\n",
      "73/73 [==============================] - 16s 224ms/step - loss: 0.9356 - accuracy: 0.6362 - val_loss: 1.0040 - val_accuracy: 0.6586\n",
      "Epoch 52/100\n",
      "73/73 [==============================] - 18s 248ms/step - loss: 0.9375 - accuracy: 0.6306 - val_loss: 0.9144 - val_accuracy: 0.6415\n",
      "Epoch 53/100\n",
      "73/73 [==============================] - 18s 252ms/step - loss: 0.9295 - accuracy: 0.6486 - val_loss: 1.1030 - val_accuracy: 0.6261\n",
      "Epoch 54/100\n",
      "73/73 [==============================] - 19s 254ms/step - loss: 0.9304 - accuracy: 0.6406 - val_loss: 0.8686 - val_accuracy: 0.6610\n",
      "Epoch 55/100\n",
      "73/73 [==============================] - 18s 243ms/step - loss: 0.9281 - accuracy: 0.6427 - val_loss: 0.8840 - val_accuracy: 0.6285\n",
      "Epoch 56/100\n",
      "73/73 [==============================] - 19s 258ms/step - loss: 0.9043 - accuracy: 0.6518 - val_loss: 0.9427 - val_accuracy: 0.6513\n",
      "Epoch 57/100\n",
      "73/73 [==============================] - 18s 251ms/step - loss: 0.9092 - accuracy: 0.6516 - val_loss: 0.8415 - val_accuracy: 0.6366\n",
      "Epoch 58/100\n",
      "73/73 [==============================] - 17s 239ms/step - loss: 0.9198 - accuracy: 0.6494 - val_loss: 0.8968 - val_accuracy: 0.6577\n",
      "Epoch 59/100\n",
      "73/73 [==============================] - 18s 248ms/step - loss: 0.9048 - accuracy: 0.6568 - val_loss: 0.7483 - val_accuracy: 0.6423\n",
      "Epoch 60/100\n",
      "73/73 [==============================] - 18s 246ms/step - loss: 0.9179 - accuracy: 0.6564 - val_loss: 1.0054 - val_accuracy: 0.6326\n",
      "Epoch 61/100\n",
      "73/73 [==============================] - 18s 244ms/step - loss: 0.9053 - accuracy: 0.6564 - val_loss: 0.8388 - val_accuracy: 0.6415\n",
      "Epoch 62/100\n",
      "73/73 [==============================] - 18s 241ms/step - loss: 0.8853 - accuracy: 0.6657 - val_loss: 1.0991 - val_accuracy: 0.6448\n",
      "Epoch 63/100\n",
      "73/73 [==============================] - 18s 252ms/step - loss: 0.8979 - accuracy: 0.6561 - val_loss: 0.8820 - val_accuracy: 0.6659\n",
      "Epoch 64/100\n",
      "73/73 [==============================] - 18s 246ms/step - loss: 0.8865 - accuracy: 0.6574 - val_loss: 0.8805 - val_accuracy: 0.6407\n",
      "Epoch 65/100\n",
      "73/73 [==============================] - 18s 249ms/step - loss: 0.8863 - accuracy: 0.6576 - val_loss: 0.8684 - val_accuracy: 0.6188\n",
      "Epoch 66/100\n",
      "73/73 [==============================] - 18s 251ms/step - loss: 0.8769 - accuracy: 0.6594 - val_loss: 0.9518 - val_accuracy: 0.6553\n",
      "Epoch 67/100\n",
      "73/73 [==============================] - 18s 244ms/step - loss: 0.8806 - accuracy: 0.6755 - val_loss: 0.7904 - val_accuracy: 0.6196\n",
      "Epoch 68/100\n",
      "73/73 [==============================] - 19s 257ms/step - loss: 0.8726 - accuracy: 0.6670 - val_loss: 1.1391 - val_accuracy: 0.6091\n",
      "Epoch 69/100\n",
      "73/73 [==============================] - 18s 241ms/step - loss: 0.8884 - accuracy: 0.6667 - val_loss: 1.0477 - val_accuracy: 0.6204\n",
      "Epoch 70/100\n",
      "73/73 [==============================] - 17s 239ms/step - loss: 0.8753 - accuracy: 0.6639 - val_loss: 1.2265 - val_accuracy: 0.6456\n",
      "Epoch 71/100\n",
      "73/73 [==============================] - 18s 241ms/step - loss: 0.8658 - accuracy: 0.6713 - val_loss: 0.7619 - val_accuracy: 0.6796\n",
      "Epoch 72/100\n",
      "73/73 [==============================] - 18s 251ms/step - loss: 0.8608 - accuracy: 0.6706 - val_loss: 0.9594 - val_accuracy: 0.6650\n",
      "Epoch 73/100\n",
      "73/73 [==============================] - 18s 245ms/step - loss: 0.8593 - accuracy: 0.6734 - val_loss: 0.8473 - val_accuracy: 0.6472\n",
      "Epoch 74/100\n",
      "73/73 [==============================] - 18s 247ms/step - loss: 0.8513 - accuracy: 0.6711 - val_loss: 1.0087 - val_accuracy: 0.6699\n",
      "Epoch 75/100\n",
      "73/73 [==============================] - 18s 244ms/step - loss: 0.8553 - accuracy: 0.6670 - val_loss: 0.9072 - val_accuracy: 0.6618\n",
      "Epoch 76/100\n",
      "73/73 [==============================] - 20s 269ms/step - loss: 0.8500 - accuracy: 0.6763 - val_loss: 1.0266 - val_accuracy: 0.6366\n",
      "Epoch 77/100\n",
      "73/73 [==============================] - 19s 263ms/step - loss: 0.8545 - accuracy: 0.6802 - val_loss: 1.0054 - val_accuracy: 0.6496\n",
      "Epoch 78/100\n",
      "73/73 [==============================] - 20s 276ms/step - loss: 0.8425 - accuracy: 0.6811 - val_loss: 0.9015 - val_accuracy: 0.6391\n",
      "Epoch 79/100\n",
      "73/73 [==============================] - 21s 287ms/step - loss: 0.8486 - accuracy: 0.6775 - val_loss: 0.9809 - val_accuracy: 0.6756\n",
      "Epoch 80/100\n",
      "73/73 [==============================] - 20s 274ms/step - loss: 0.8508 - accuracy: 0.6711 - val_loss: 0.9046 - val_accuracy: 0.6659\n",
      "Epoch 81/100\n",
      "73/73 [==============================] - 20s 277ms/step - loss: 0.8355 - accuracy: 0.6832 - val_loss: 0.7757 - val_accuracy: 0.6813\n",
      "Epoch 82/100\n",
      "73/73 [==============================] - 20s 270ms/step - loss: 0.8347 - accuracy: 0.6754 - val_loss: 1.0509 - val_accuracy: 0.6285\n",
      "Epoch 83/100\n",
      "73/73 [==============================] - 19s 265ms/step - loss: 0.8232 - accuracy: 0.6839 - val_loss: 0.9239 - val_accuracy: 0.6545\n",
      "Epoch 84/100\n",
      "73/73 [==============================] - 19s 257ms/step - loss: 0.8298 - accuracy: 0.6766 - val_loss: 0.9363 - val_accuracy: 0.6691\n",
      "Epoch 85/100\n",
      "73/73 [==============================] - 19s 256ms/step - loss: 0.8296 - accuracy: 0.6910 - val_loss: 0.7819 - val_accuracy: 0.6723\n",
      "Epoch 86/100\n",
      "73/73 [==============================] - 18s 244ms/step - loss: 0.8183 - accuracy: 0.6862 - val_loss: 0.9952 - val_accuracy: 0.6561\n",
      "Epoch 87/100\n",
      "73/73 [==============================] - 20s 279ms/step - loss: 0.8246 - accuracy: 0.6879 - val_loss: 0.7646 - val_accuracy: 0.6853\n",
      "Epoch 88/100\n",
      "73/73 [==============================] - 19s 265ms/step - loss: 0.7926 - accuracy: 0.7022 - val_loss: 0.9663 - val_accuracy: 0.6521\n",
      "Epoch 89/100\n",
      "73/73 [==============================] - 19s 265ms/step - loss: 0.8247 - accuracy: 0.6923 - val_loss: 1.1137 - val_accuracy: 0.6634\n",
      "Epoch 90/100\n",
      "73/73 [==============================] - 20s 278ms/step - loss: 0.8076 - accuracy: 0.6925 - val_loss: 0.6815 - val_accuracy: 0.7113\n",
      "Epoch 91/100\n",
      "73/73 [==============================] - 21s 282ms/step - loss: 0.8040 - accuracy: 0.6992 - val_loss: 0.9526 - val_accuracy: 0.6602\n",
      "Epoch 92/100\n",
      "73/73 [==============================] - 19s 261ms/step - loss: 0.8153 - accuracy: 0.6823 - val_loss: 0.8297 - val_accuracy: 0.6740\n",
      "Epoch 93/100\n",
      "73/73 [==============================] - 20s 268ms/step - loss: 0.8049 - accuracy: 0.6912 - val_loss: 0.7196 - val_accuracy: 0.6586\n",
      "Epoch 94/100\n",
      "73/73 [==============================] - 18s 253ms/step - loss: 0.7972 - accuracy: 0.7027 - val_loss: 0.9815 - val_accuracy: 0.6894\n",
      "Epoch 95/100\n",
      "73/73 [==============================] - 18s 247ms/step - loss: 0.7890 - accuracy: 0.6944 - val_loss: 0.8570 - val_accuracy: 0.6686\n",
      "Epoch 96/100\n",
      "73/73 [==============================] - 17s 232ms/step - loss: 0.8065 - accuracy: 0.6910 - val_loss: 0.7204 - val_accuracy: 0.6805\n",
      "Epoch 97/100\n",
      "73/73 [==============================] - 19s 257ms/step - loss: 0.7781 - accuracy: 0.7119 - val_loss: 0.8496 - val_accuracy: 0.6788\n",
      "Epoch 98/100\n",
      "73/73 [==============================] - 16s 224ms/step - loss: 0.8001 - accuracy: 0.6888 - val_loss: 0.9767 - val_accuracy: 0.6796\n",
      "Epoch 99/100\n",
      "73/73 [==============================] - 17s 234ms/step - loss: 0.7804 - accuracy: 0.7121 - val_loss: 0.7680 - val_accuracy: 0.6829\n",
      "Epoch 100/100\n",
      "73/73 [==============================] - 19s 255ms/step - loss: 0.7806 - accuracy: 0.7063 - val_loss: 0.9865 - val_accuracy: 0.6675\n"
     ]
    }
   ],
   "source": [
    "history = model.fit_generator(\n",
    "    train_generator,\n",
    "    steps_per_epoch = 4685//batch_size,\n",
    "    epochs=epochs,\n",
    "    validation_data = validation_generator,\n",
    "    validation_steps=20)"
   ]
  },
  {
   "cell_type": "markdown",
   "metadata": {},
   "source": [
    "## 7. Accuracy Analysis and Visualization"
   ]
  },
  {
   "cell_type": "code",
   "execution_count": 19,
   "metadata": {},
   "outputs": [],
   "source": [
    "def plot_accuracy_and_loss(history):\n",
    "    plt.figure(1, figsize= (15, 10))\n",
    "\n",
    "    # plot train and test accuracy\n",
    "    plt.subplot(221)\n",
    "    plt.plot(history.history['accuracy'])\n",
    "    plt.plot(history.history['val_accuracy'])\n",
    "    plt.title('Baseline CNN Accuracy')\n",
    "    plt.ylabel('accuracy')\n",
    "    plt.xlabel('epoch')\n",
    "    plt.legend(['train', 'test'], loc='upper left')\n",
    "\n",
    "    # plot train and test loss\n",
    "    plt.subplot(222)\n",
    "    plt.plot(history.history['loss'])\n",
    "    plt.plot(history.history['val_loss'])\n",
    "    plt.title('Baseline CNN loss')\n",
    "    plt.ylabel('loss')\n",
    "    plt.xlabel('epoch')\n",
    "    plt.legend(['train', 'test'], loc='upper right')\n",
    "\n",
    "    plt.show()"
   ]
  },
  {
   "cell_type": "code",
   "execution_count": 20,
   "metadata": {
    "scrolled": true
   },
   "outputs": [
    {
     "data": {
      "image/png": "[encoded data removed]",
      "text/plain": [
       "<Figure size 1080x720 with 2 Axes>"
      ]
     },
     "metadata": {
      "needs_background": "light"
     },
     "output_type": "display_data"
    }
   ],
   "source": [
    "plot_accuracy_and_loss(history)"
   ]
  },
  {
   "cell_type": "code",
   "execution_count": 22,
   "metadata": {
    "scrolled": false
   },
   "outputs": [
    {
     "name": "stdout",
     "output_type": "stream",
     "text": [
      "-- Evaluate --\n",
      "accuracy: 72.19%\n",
      "accuracy: 70.00%\n",
      "-- Predict --\n",
      "{'daisy': 0, 'dandelion': 1, 'roses': 2, 'sunflowers': 3, 'tulips': 4}\n",
      "[[0.021 0.001 0.633 0.002 0.343]\n",
      " [0.005 0.019 0.000 0.971 0.004]\n",
      " [0.090 0.021 0.402 0.110 0.377]\n",
      " ...\n",
      " [0.057 0.486 0.206 0.032 0.219]\n",
      " [0.006 0.000 0.941 0.000 0.052]\n",
      " [0.993 0.002 0.002 0.001 0.003]]\n",
      "{'daisy': 0, 'dandelion': 1, 'roses': 2, 'sunflowers': 3, 'tulips': 4}\n",
      "[[0.955 0.034 0.008 0.001 0.002]\n",
      " [0.061 0.520 0.035 0.045 0.340]\n",
      " [0.086 0.032 0.005 0.860 0.017]\n",
      " ...\n",
      " [0.000 0.001 0.000 0.941 0.058]\n",
      " [0.899 0.021 0.057 0.000 0.024]\n",
      " [0.025 0.928 0.036 0.000 0.010]]\n"
     ]
    }
   ],
   "source": [
    "print(\"-- Evaluate --\")\n",
    "\n",
    "scores_train = model.evaluate_generator(\n",
    "            train_generator, \n",
    "            steps = 5)\n",
    "scores_val = model.evaluate_generator(\n",
    "            validation_generator, \n",
    "            steps = 5)\n",
    "\n",
    "print(\"%s: %.2f%%\" %(model.metrics_names[1], scores_train[1]*100))\n",
    "print(\"%s: %.2f%%\" %(model.metrics_names[1], scores_val[1]*100))\n",
    "\n",
    "print(\"-- Predict --\")\n",
    "output_train = model.predict_generator(train_generator, steps=5)\n",
    "output_val = model.predict_generator(validation_generator, steps=5)\n",
    "np.set_printoptions(formatter={'float': lambda x: \"{0:0.3f}\".format(x)})\n",
    "\n",
    "print(train_generator.class_indices)\n",
    "print(output_train)\n",
    "\n",
    "print(validation_generator.class_indices)\n",
    "print(output_val)"
   ]
  },
  {
   "cell_type": "markdown",
   "metadata": {},
   "source": [
    "## 8. Save and Load model"
   ]
  },
  {
   "cell_type": "code",
   "execution_count": 23,
   "metadata": {},
   "outputs": [],
   "source": [
    "# save model architecture\n",
    "model_json = model.to_json()\n",
    "open('1_model.json', 'w').write(model_json)\n",
    "\n",
    "# save model's learned weights\n",
    "model.save_weights('1_weights.h5', overwrite=True)"
   ]
  },
  {
   "cell_type": "code",
   "execution_count": 24,
   "metadata": {},
   "outputs": [
    {
     "name": "stdout",
     "output_type": "stream",
     "text": [
      "Loaded model from disk\n"
     ]
    }
   ],
   "source": [
    "# Load trained model\n",
    "from keras.models import model_from_json \n",
    "\n",
    "json_file = open(\"1_model.json\", \"r\")\n",
    "loaded_model_json = json_file.read() \n",
    "json_file.close()\n",
    "loaded_model = model_from_json(loaded_model_json)\n",
    " \n",
    "# model weight load \n",
    "loaded_model.load_weights(\"1_weights.h5\")\n",
    "print(\"Loaded model from disk\")"
   ]
  }
 ],
 "metadata": {
  "kernelspec": {
   "display_name": "Python 3",
   "language": "python",
   "name": "python3"
  },
  "language_info": {
   "codemirror_mode": {
    "name": "ipython",
    "version": 3
   },
   "file_extension": ".py",
   "mimetype": "text/x-python",
   "name": "python",
   "nbconvert_exporter": "python",
   "pygments_lexer": "ipython3",
   "version": "3.7.7"
  }
 },
 "nbformat": 4,
 "nbformat_minor": 4
}
