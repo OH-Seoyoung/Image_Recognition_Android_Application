{
 "cells": [
  {
   "cell_type": "markdown",
   "metadata": {},
   "source": [
    "# Image recognition android application project\n",
    "- Flower image classification with Baseline CNN (20200823)  \n",
    "- 4685 training set with 5 class, 100 iterations, 16 batch\n",
    "\n",
    "### Reference\n",
    "- [coding-practice by **osterburg**], 'https://github.com/osterburg/coding-practice'"
   ]
  },
  {
   "cell_type": "markdown",
   "metadata": {},
   "source": [
    "## 1. Import packages"
   ]
  },
  {
   "cell_type": "code",
   "execution_count": 1,
   "metadata": {},
   "outputs": [
    {
     "name": "stderr",
     "output_type": "stream",
     "text": [
      "Using TensorFlow backend.\n"
     ]
    },
    {
     "name": "stdout",
     "output_type": "stream",
     "text": [
      "WARNING:tensorflow:From C:\\ProgramData\\Anaconda3\\lib\\site-packages\\tensorflow_core\\python\\compat\\v2_compat.py:88: disable_resource_variables (from tensorflow.python.ops.variable_scope) is deprecated and will be removed in a future version.\n",
      "Instructions for updating:\n",
      "non-resource variables are not supported in the long term\n"
     ]
    }
   ],
   "source": [
    "from __future__ import absolute_import\n",
    "from __future__ import division\n",
    "from __future__ import print_function\n",
    "\n",
    "import os\n",
    "import sys\n",
    "import tarfile\n",
    "import glob\n",
    "from six.moves import urllib\n",
    "from glob import glob\n",
    "import random\n",
    "import shutil\n",
    "\n",
    "import keras\n",
    "from keras.models import Sequential\n",
    "from keras.layers import Dense, Dropout, Flatten\n",
    "from keras.layers.convolutional import Conv2D, MaxPooling2D\n",
    "from keras.models import load_model\n",
    "import tensorflow.compat.v1 as tf\n",
    "tf.disable_v2_behavior()\n",
    "\n",
    "import numpy as np\n",
    "import matplotlib\n",
    "import matplotlib.pyplot as plt"
   ]
  },
  {
   "cell_type": "markdown",
   "metadata": {},
   "source": [
    "## 2. Load and Explore the Flower Dataset"
   ]
  },
  {
   "cell_type": "code",
   "execution_count": 2,
   "metadata": {},
   "outputs": [],
   "source": [
    "def load_data_files(base_dir):\n",
    "    folder_name = \"dataset/flower_photos\"\n",
    "    RAW_DATASET = os.path.join(base_dir, folder_name)\n",
    "\n",
    "    abs_dir = os.path.join(os.getcwd(), folder_name)\n",
    "    sub_dir = os.listdir(abs_dir)\n",
    "    data_dic = {}\n",
    "    \n",
    "    for class_name  in sub_dir:\n",
    "        imgs = glob(os.path.join(RAW_DATASET,class_name,\"*.jpg\"))\n",
    "\n",
    "        data_dic[class_name] = imgs\n",
    "        print(\"Class: {}\".format(class_name))\n",
    "        print(\"Number of images: {} \\n\".format(len(imgs)))\n",
    "\n",
    "    return data_dic"
   ]
  },
  {
   "cell_type": "code",
   "execution_count": 3,
   "metadata": {
    "scrolled": true
   },
   "outputs": [
    {
     "name": "stdout",
     "output_type": "stream",
     "text": [
      "Class: daisy\n",
      "Number of images: 1020 \n",
      "\n",
      "Class: dandelion\n",
      "Number of images: 1277 \n",
      "\n",
      "Class: roses\n",
      "Number of images: 1124 \n",
      "\n",
      "Class: sunflowers\n",
      "Number of images: 1158 \n",
      "\n",
      "Class: tulips\n",
      "Number of images: 1275 \n",
      "\n"
     ]
    }
   ],
   "source": [
    "BASE_DIR = os.getcwd()\n",
    "data_dic = load_data_files(BASE_DIR)"
   ]
  },
  {
   "cell_type": "markdown",
   "metadata": {},
   "source": [
    "## 3. Split train and validation dataset"
   ]
  },
  {
   "cell_type": "code",
   "execution_count": 4,
   "metadata": {},
   "outputs": [],
   "source": [
    "# Create new directory and copy files to it\n",
    "def copy_files_to_directory(files, directory):\n",
    "    if not os.path.exists(directory):\n",
    "        os.makedirs(directory)\n",
    "        print(\"Created directory: {}\".format(directory))\n",
    "\n",
    "    for f in files:\n",
    "        shutil.copy(f, directory)\n",
    "    print(\"Copied {} files.\\n\".format(len(files)))"
   ]
  },
  {
   "cell_type": "code",
   "execution_count": 5,
   "metadata": {},
   "outputs": [],
   "source": [
    "def train_validation_split(base_dir, data_dic, split_ratio=0.2):\n",
    "    FLOWER_DATASET = os.path.join(base_dir,\"flower_dataset\")\n",
    "\n",
    "    if not os.path.exists(FLOWER_DATASET):\n",
    "        os.makedirs(FLOWER_DATASET)\n",
    "\n",
    "    for class_name, imgs in data_dic.items():\n",
    "        idx_split = int(len(imgs) * split_ratio)\n",
    "        random.shuffle(imgs)\n",
    "        validation = imgs[:idx_split]\n",
    "        train = imgs[idx_split:]\n",
    "\n",
    "        copy_files_to_directory(train, os.path.join(FLOWER_DATASET,\"train\",class_name))\n",
    "        copy_files_to_directory(validation, os.path.join(FLOWER_DATASET,\"validation\",class_name))"
   ]
  },
  {
   "cell_type": "code",
   "execution_count": 6,
   "metadata": {
    "scrolled": true
   },
   "outputs": [],
   "source": [
    "# BASE_DIR = os.getcwd()\n",
    "\n",
    "# train_validation_split(BASE_DIR, data_dic, split_ratio=0.2)"
   ]
  },
  {
   "cell_type": "markdown",
   "metadata": {},
   "source": [
    "## 4. Image preprocessing"
   ]
  },
  {
   "cell_type": "code",
   "execution_count": 7,
   "metadata": {},
   "outputs": [],
   "source": [
    "batch_size = 16\n",
    "num_classes = 5\n",
    "epochs = 100"
   ]
  },
  {
   "cell_type": "code",
   "execution_count": 8,
   "metadata": {},
   "outputs": [],
   "source": [
    "preprocessing_image = tf.keras.preprocessing.image\n",
    "\n",
    "train_datagen = preprocessing_image.ImageDataGenerator(\n",
    "    rescale=1./255,\n",
    "    shear_range=0.2,\n",
    "    zoom_range=0.2,\n",
    "    horizontal_flip=True)\n",
    "\n",
    "test_datagen = preprocessing_image.ImageDataGenerator(rescale=1./255)"
   ]
  },
  {
   "cell_type": "code",
   "execution_count": 9,
   "metadata": {
    "scrolled": false
   },
   "outputs": [
    {
     "name": "stdout",
     "output_type": "stream",
     "text": [
      "Found 4685 images belonging to 5 classes.\n",
      "Found 1169 images belonging to 5 classes.\n"
     ]
    }
   ],
   "source": [
    "BASE_DIR = os.getcwd()\n",
    "\n",
    "train_generator = train_datagen.flow_from_directory(\n",
    "    os.path.join(BASE_DIR, \"flower_dataset/train\"),\n",
    "    target_size=(32, 32),\n",
    "    batch_size=batch_size,\n",
    "    class_mode='categorical')\n",
    "\n",
    "validation_generator = test_datagen.flow_from_directory(\n",
    "    os.path.join(BASE_DIR, \"flower_dataset/validation\"),\n",
    "    target_size=(32, 32),\n",
    "    batch_size=batch_size,\n",
    "    class_mode='categorical')"
   ]
  },
  {
   "cell_type": "markdown",
   "metadata": {},
   "source": [
    "## 5. Baseline CNN model"
   ]
  },
  {
   "cell_type": "code",
   "execution_count": 10,
   "metadata": {
    "scrolled": false
   },
   "outputs": [
    {
     "name": "stdout",
     "output_type": "stream",
     "text": [
      "WARNING:tensorflow:From C:\\ProgramData\\Anaconda3\\lib\\site-packages\\tensorflow_core\\python\\ops\\resource_variable_ops.py:1635: calling BaseResourceVariable.__init__ (from tensorflow.python.ops.resource_variable_ops) with constraint is deprecated and will be removed in a future version.\n",
      "Instructions for updating:\n",
      "If using Keras pass *_constraint arguments to layers.\n",
      "Model: \"sequential_1\"\n",
      "_________________________________________________________________\n",
      "Layer (type)                 Output Shape              Param #   \n",
      "=================================================================\n",
      "conv2d_1 (Conv2D)            (None, 32, 32, 32)        2432      \n",
      "_________________________________________________________________\n",
      "max_pooling2d_1 (MaxPooling2 (None, 16, 16, 32)        0         \n",
      "_________________________________________________________________\n",
      "conv2d_2 (Conv2D)            (None, 16, 16, 64)        51264     \n",
      "_________________________________________________________________\n",
      "max_pooling2d_2 (MaxPooling2 (None, 8, 8, 64)          0         \n",
      "_________________________________________________________________\n",
      "dropout_1 (Dropout)          (None, 8, 8, 64)          0         \n",
      "_________________________________________________________________\n",
      "flatten_1 (Flatten)          (None, 4096)              0         \n",
      "_________________________________________________________________\n",
      "dense_1 (Dense)              (None, 1024)              4195328   \n",
      "_________________________________________________________________\n",
      "dropout_2 (Dropout)          (None, 1024)              0         \n",
      "_________________________________________________________________\n",
      "dense_2 (Dense)              (None, 5)                 5125      \n",
      "=================================================================\n",
      "Total params: 4,254,149\n",
      "Trainable params: 4,254,149\n",
      "Non-trainable params: 0\n",
      "_________________________________________________________________\n"
     ]
    }
   ],
   "source": [
    "model = Sequential()\n",
    "model.add(Conv2D(32, kernel_size=(5, 5), strides=(1, 1), padding='same',\n",
    "                 activation='relu',\n",
    "                 input_shape=(32, 32, 3)))\n",
    "model.add(MaxPooling2D(pool_size=(2, 2)))\n",
    "model.add(Conv2D(64, (5, 5), activation='relu', padding='same'))\n",
    "model.add(MaxPooling2D(pool_size=(2, 2)))\n",
    "model.add(Dropout(0.25))\n",
    "model.add(Flatten())\n",
    "model.add(Dense(1024, activation='relu'))\n",
    "model.add(Dropout(0.5))\n",
    "model.add(Dense(num_classes, activation='softmax'))\n",
    "model.summary()"
   ]
  },
  {
   "cell_type": "code",
   "execution_count": 11,
   "metadata": {},
   "outputs": [],
   "source": [
    "model.compile(loss='categorical_crossentropy', optimizer='sgd', metrics=['accuracy'])\n",
    "# model.compile(loss='categorical_crossentropy', optimizer=adam(lr=0.0005), metrics=['accuracy'])"
   ]
  },
  {
   "cell_type": "markdown",
   "metadata": {},
   "source": [
    "## 6. Training"
   ]
  },
  {
   "cell_type": "code",
   "execution_count": 12,
   "metadata": {
    "scrolled": false
   },
   "outputs": [
    {
     "name": "stdout",
     "output_type": "stream",
     "text": [
      "Epoch 1/100\n",
      "292/292 [==============================] - 23s 78ms/step - loss: 1.4887 - accuracy: 0.3343 - val_loss: 1.4563 - val_accuracy: 0.4031\n",
      "Epoch 2/100\n",
      "292/292 [==============================] - 23s 79ms/step - loss: 1.2619 - accuracy: 0.4586 - val_loss: 1.1306 - val_accuracy: 0.5063\n",
      "Epoch 3/100\n",
      "292/292 [==============================] - 25s 86ms/step - loss: 1.2028 - accuracy: 0.5059 - val_loss: 1.2798 - val_accuracy: 0.5344\n",
      "Epoch 4/100\n",
      "292/292 [==============================] - 25s 85ms/step - loss: 1.1653 - accuracy: 0.5292 - val_loss: 1.0597 - val_accuracy: 0.5279\n",
      "Epoch 5/100\n",
      "292/292 [==============================] - 24s 81ms/step - loss: 1.1350 - accuracy: 0.5472 - val_loss: 1.1028 - val_accuracy: 0.5906\n",
      "Epoch 6/100\n",
      "292/292 [==============================] - 22s 75ms/step - loss: 1.1125 - accuracy: 0.5629 - val_loss: 2.1551 - val_accuracy: 0.5219\n",
      "Epoch 7/100\n",
      "292/292 [==============================] - 24s 83ms/step - loss: 1.0852 - accuracy: 0.5774 - val_loss: 1.2318 - val_accuracy: 0.6344\n",
      "Epoch 8/100\n",
      "292/292 [==============================] - 26s 88ms/step - loss: 1.0643 - accuracy: 0.5716 - val_loss: 0.6860 - val_accuracy: 0.6033\n",
      "Epoch 9/100\n",
      "292/292 [==============================] - 26s 88ms/step - loss: 1.0442 - accuracy: 0.5903 - val_loss: 0.7816 - val_accuracy: 0.6094\n",
      "Epoch 10/100\n",
      "292/292 [==============================] - 27s 91ms/step - loss: 1.0310 - accuracy: 0.5956 - val_loss: 0.7819 - val_accuracy: 0.5813\n",
      "Epoch 11/100\n",
      "292/292 [==============================] - 27s 93ms/step - loss: 1.0166 - accuracy: 0.6027 - val_loss: 0.9128 - val_accuracy: 0.6156\n",
      "Epoch 12/100\n",
      "292/292 [==============================] - 26s 90ms/step - loss: 1.0037 - accuracy: 0.6125 - val_loss: 1.3159 - val_accuracy: 0.5639\n",
      "Epoch 13/100\n",
      "292/292 [==============================] - 29s 101ms/step - loss: 0.9822 - accuracy: 0.6271 - val_loss: 0.9570 - val_accuracy: 0.6531\n",
      "Epoch 14/100\n",
      "292/292 [==============================] - 29s 99ms/step - loss: 0.9638 - accuracy: 0.6256 - val_loss: 1.1008 - val_accuracy: 0.5938\n",
      "Epoch 15/100\n",
      "292/292 [==============================] - 29s 101ms/step - loss: 0.9614 - accuracy: 0.6359 - val_loss: 0.8331 - val_accuracy: 0.6098\n",
      "Epoch 16/100\n",
      "292/292 [==============================] - 30s 104ms/step - loss: 0.9332 - accuracy: 0.6404 - val_loss: 1.2754 - val_accuracy: 0.6313\n",
      "Epoch 17/100\n",
      "292/292 [==============================] - 26s 88ms/step - loss: 0.9283 - accuracy: 0.6342 - val_loss: 1.0721 - val_accuracy: 0.6750\n",
      "Epoch 18/100\n",
      "292/292 [==============================] - 27s 94ms/step - loss: 0.9314 - accuracy: 0.6453 - val_loss: 1.0134 - val_accuracy: 0.6219\n",
      "Epoch 19/100\n",
      "292/292 [==============================] - 26s 88ms/step - loss: 0.9105 - accuracy: 0.6475 - val_loss: 0.7503 - val_accuracy: 0.6459\n",
      "Epoch 20/100\n",
      "292/292 [==============================] - 25s 87ms/step - loss: 0.8942 - accuracy: 0.6552 - val_loss: 0.7107 - val_accuracy: 0.6594\n",
      "Epoch 21/100\n",
      "292/292 [==============================] - 25s 86ms/step - loss: 0.8859 - accuracy: 0.6607 - val_loss: 0.7951 - val_accuracy: 0.6687\n",
      "Epoch 22/100\n",
      "292/292 [==============================] - 25s 86ms/step - loss: 0.8743 - accuracy: 0.6734 - val_loss: 0.9963 - val_accuracy: 0.6750\n",
      "Epoch 23/100\n",
      "292/292 [==============================] - 25s 86ms/step - loss: 0.8648 - accuracy: 0.6648 - val_loss: 0.6226 - val_accuracy: 0.6852\n",
      "Epoch 24/100\n",
      "292/292 [==============================] - 25s 85ms/step - loss: 0.8567 - accuracy: 0.6747 - val_loss: 0.8221 - val_accuracy: 0.6625\n",
      "Epoch 25/100\n",
      "292/292 [==============================] - 26s 89ms/step - loss: 0.8481 - accuracy: 0.6802 - val_loss: 0.8773 - val_accuracy: 0.6594\n",
      "Epoch 26/100\n",
      "292/292 [==============================] - 27s 92ms/step - loss: 0.8324 - accuracy: 0.6826 - val_loss: 1.0356 - val_accuracy: 0.6689\n",
      "Epoch 27/100\n",
      "292/292 [==============================] - 26s 89ms/step - loss: 0.8357 - accuracy: 0.6809 - val_loss: 0.8552 - val_accuracy: 0.7000\n",
      "Epoch 28/100\n",
      "292/292 [==============================] - 26s 88ms/step - loss: 0.8251 - accuracy: 0.6849 - val_loss: 0.8656 - val_accuracy: 0.6656\n",
      "Epoch 29/100\n",
      "292/292 [==============================] - 25s 86ms/step - loss: 0.8084 - accuracy: 0.6933 - val_loss: 0.3658 - val_accuracy: 0.7563\n",
      "Epoch 30/100\n",
      "292/292 [==============================] - 25s 87ms/step - loss: 0.8110 - accuracy: 0.6912 - val_loss: 0.6638 - val_accuracy: 0.6361\n",
      "Epoch 31/100\n",
      "292/292 [==============================] - 26s 90ms/step - loss: 0.7988 - accuracy: 0.7010 - val_loss: 0.6963 - val_accuracy: 0.6969\n",
      "Epoch 32/100\n",
      "292/292 [==============================] - 28s 95ms/step - loss: 0.7767 - accuracy: 0.7066 - val_loss: 0.6848 - val_accuracy: 0.6656\n",
      "Epoch 33/100\n",
      "292/292 [==============================] - 26s 90ms/step - loss: 0.7781 - accuracy: 0.7008 - val_loss: 0.7665 - val_accuracy: 0.6687\n",
      "Epoch 34/100\n",
      "292/292 [==============================] - 32s 109ms/step - loss: 0.7709 - accuracy: 0.7111 - val_loss: 1.1439 - val_accuracy: 0.6885\n",
      "Epoch 35/100\n",
      "292/292 [==============================] - 37s 128ms/step - loss: 0.7647 - accuracy: 0.7117 - val_loss: 0.5767 - val_accuracy: 0.7094\n",
      "Epoch 36/100\n",
      "292/292 [==============================] - 33s 114ms/step - loss: 0.7524 - accuracy: 0.7134 - val_loss: 1.4277 - val_accuracy: 0.7094\n",
      "Epoch 37/100\n",
      "292/292 [==============================] - 33s 112ms/step - loss: 0.7298 - accuracy: 0.7274 - val_loss: 0.0455 - val_accuracy: 0.7148\n",
      "Epoch 38/100\n",
      "292/292 [==============================] - 31s 107ms/step - loss: 0.7435 - accuracy: 0.7181 - val_loss: 0.7604 - val_accuracy: 0.6344\n",
      "Epoch 39/100\n",
      "292/292 [==============================] - 30s 104ms/step - loss: 0.7197 - accuracy: 0.7303 - val_loss: 0.6692 - val_accuracy: 0.7156\n",
      "Epoch 40/100\n",
      "292/292 [==============================] - 30s 104ms/step - loss: 0.7199 - accuracy: 0.7282 - val_loss: 0.6404 - val_accuracy: 0.7344\n",
      "Epoch 41/100\n",
      "292/292 [==============================] - 31s 107ms/step - loss: 0.7125 - accuracy: 0.7291 - val_loss: 0.4889 - val_accuracy: 0.7082\n",
      "Epoch 42/100\n",
      "292/292 [==============================] - 31s 107ms/step - loss: 0.7012 - accuracy: 0.7378 - val_loss: 0.8408 - val_accuracy: 0.6906\n",
      "Epoch 43/100\n",
      "292/292 [==============================] - 31s 107ms/step - loss: 0.7014 - accuracy: 0.7349 - val_loss: 0.4610 - val_accuracy: 0.7094\n",
      "Epoch 44/100\n",
      "292/292 [==============================] - 31s 107ms/step - loss: 0.6818 - accuracy: 0.7441 - val_loss: 0.5598 - val_accuracy: 0.6125\n",
      "Epoch 45/100\n",
      "292/292 [==============================] - 30s 103ms/step - loss: 0.6775 - accuracy: 0.7464 - val_loss: 0.9901 - val_accuracy: 0.7508\n",
      "Epoch 46/100\n",
      "292/292 [==============================] - 31s 105ms/step - loss: 0.6816 - accuracy: 0.7428 - val_loss: 0.6346 - val_accuracy: 0.6938\n",
      "Epoch 47/100\n",
      "292/292 [==============================] - 31s 106ms/step - loss: 0.6623 - accuracy: 0.7479 - val_loss: 0.9902 - val_accuracy: 0.7125\n",
      "Epoch 48/100\n",
      "292/292 [==============================] - 31s 107ms/step - loss: 0.6476 - accuracy: 0.7540 - val_loss: 1.3170 - val_accuracy: 0.6875\n",
      "Epoch 49/100\n",
      "292/292 [==============================] - 31s 108ms/step - loss: 0.6523 - accuracy: 0.7488 - val_loss: 0.4291 - val_accuracy: 0.7508\n",
      "Epoch 50/100\n",
      "292/292 [==============================] - 30s 103ms/step - loss: 0.6295 - accuracy: 0.7608 - val_loss: 1.0096 - val_accuracy: 0.7188\n",
      "Epoch 51/100\n",
      "292/292 [==============================] - 31s 106ms/step - loss: 0.6349 - accuracy: 0.7598 - val_loss: 0.6197 - val_accuracy: 0.6906\n",
      "Epoch 52/100\n",
      "292/292 [==============================] - 28s 95ms/step - loss: 0.6203 - accuracy: 0.7599 - val_loss: 0.7141 - val_accuracy: 0.6918\n",
      "Epoch 53/100\n",
      "292/292 [==============================] - 29s 100ms/step - loss: 0.6250 - accuracy: 0.7643 - val_loss: 0.7129 - val_accuracy: 0.6938\n",
      "Epoch 54/100\n",
      "292/292 [==============================] - 28s 98ms/step - loss: 0.6208 - accuracy: 0.7612 - val_loss: 0.5035 - val_accuracy: 0.7312\n",
      "Epoch 55/100\n",
      "292/292 [==============================] - 29s 99ms/step - loss: 0.5881 - accuracy: 0.7830 - val_loss: 0.3125 - val_accuracy: 0.7500\n",
      "Epoch 56/100\n",
      "292/292 [==============================] - 29s 100ms/step - loss: 0.5890 - accuracy: 0.7790 - val_loss: 0.5143 - val_accuracy: 0.7311\n",
      "Epoch 57/100\n"
     ]
    },
    {
     "name": "stdout",
     "output_type": "stream",
     "text": [
      "292/292 [==============================] - 29s 101ms/step - loss: 0.5848 - accuracy: 0.7790 - val_loss: 1.0122 - val_accuracy: 0.7094\n",
      "Epoch 58/100\n",
      "292/292 [==============================] - 30s 104ms/step - loss: 0.5679 - accuracy: 0.7858 - val_loss: 0.9267 - val_accuracy: 0.7281\n",
      "Epoch 59/100\n",
      "292/292 [==============================] - 31s 104ms/step - loss: 0.5711 - accuracy: 0.7836 - val_loss: 0.3703 - val_accuracy: 0.7312\n",
      "Epoch 60/100\n",
      "292/292 [==============================] - 31s 105ms/step - loss: 0.5510 - accuracy: 0.7967 - val_loss: 1.3858 - val_accuracy: 0.6918\n",
      "Epoch 61/100\n",
      "292/292 [==============================] - 31s 105ms/step - loss: 0.5475 - accuracy: 0.7902 - val_loss: 0.5305 - val_accuracy: 0.7281\n",
      "Epoch 62/100\n",
      "292/292 [==============================] - 32s 109ms/step - loss: 0.5428 - accuracy: 0.7935 - val_loss: 0.7928 - val_accuracy: 0.7344\n",
      "Epoch 63/100\n",
      "292/292 [==============================] - 32s 110ms/step - loss: 0.5253 - accuracy: 0.8077 - val_loss: 0.6501 - val_accuracy: 0.7311\n",
      "Epoch 64/100\n",
      "292/292 [==============================] - 32s 108ms/step - loss: 0.5266 - accuracy: 0.8087 - val_loss: 0.9182 - val_accuracy: 0.6781\n",
      "Epoch 65/100\n",
      "292/292 [==============================] - 29s 101ms/step - loss: 0.5325 - accuracy: 0.7975 - val_loss: 0.4107 - val_accuracy: 0.7531\n",
      "Epoch 66/100\n",
      "292/292 [==============================] - 28s 97ms/step - loss: 0.5094 - accuracy: 0.8045 - val_loss: 0.8718 - val_accuracy: 0.7375\n",
      "Epoch 67/100\n",
      "292/292 [==============================] - 29s 100ms/step - loss: 0.5089 - accuracy: 0.8084 - val_loss: 0.6991 - val_accuracy: 0.7213\n",
      "Epoch 68/100\n",
      "292/292 [==============================] - 28s 96ms/step - loss: 0.4978 - accuracy: 0.8137 - val_loss: 0.8080 - val_accuracy: 0.7219\n",
      "Epoch 69/100\n",
      "292/292 [==============================] - 28s 97ms/step - loss: 0.5086 - accuracy: 0.8147 - val_loss: 0.8262 - val_accuracy: 0.7250\n",
      "Epoch 70/100\n",
      "292/292 [==============================] - 29s 100ms/step - loss: 0.4765 - accuracy: 0.8242 - val_loss: 0.9046 - val_accuracy: 0.7625\n",
      "Epoch 71/100\n",
      "292/292 [==============================] - 31s 107ms/step - loss: 0.4678 - accuracy: 0.8264 - val_loss: 0.8672 - val_accuracy: 0.7344\n",
      "Epoch 72/100\n",
      "292/292 [==============================] - 30s 103ms/step - loss: 0.4655 - accuracy: 0.8237 - val_loss: 1.3227 - val_accuracy: 0.6500\n",
      "Epoch 73/100\n",
      "292/292 [==============================] - 33s 112ms/step - loss: 0.4662 - accuracy: 0.8266 - val_loss: 0.2183 - val_accuracy: 0.7500\n",
      "Epoch 74/100\n",
      "292/292 [==============================] - 32s 110ms/step - loss: 0.4640 - accuracy: 0.8214 - val_loss: 0.9659 - val_accuracy: 0.7016\n",
      "Epoch 75/100\n",
      "292/292 [==============================] - 33s 112ms/step - loss: 0.4458 - accuracy: 0.8335 - val_loss: 1.4044 - val_accuracy: 0.7812\n",
      "Epoch 76/100\n",
      "292/292 [==============================] - 34s 116ms/step - loss: 0.4315 - accuracy: 0.8442 - val_loss: 0.4202 - val_accuracy: 0.7469\n",
      "Epoch 77/100\n",
      "292/292 [==============================] - 32s 110ms/step - loss: 0.4496 - accuracy: 0.8295 - val_loss: 1.1352 - val_accuracy: 0.7375\n",
      "Epoch 78/100\n",
      "292/292 [==============================] - 32s 111ms/step - loss: 0.4163 - accuracy: 0.8446 - val_loss: 0.3877 - val_accuracy: 0.7410\n",
      "Epoch 79/100\n",
      "292/292 [==============================] - 32s 110ms/step - loss: 0.4124 - accuracy: 0.8459 - val_loss: 0.6914 - val_accuracy: 0.7406\n",
      "Epoch 80/100\n",
      "292/292 [==============================] - 32s 110ms/step - loss: 0.4163 - accuracy: 0.8430 - val_loss: 0.7370 - val_accuracy: 0.7000\n",
      "Epoch 81/100\n",
      "292/292 [==============================] - 33s 112ms/step - loss: 0.3992 - accuracy: 0.8517 - val_loss: 1.0192 - val_accuracy: 0.7594\n",
      "Epoch 82/100\n",
      "292/292 [==============================] - 32s 111ms/step - loss: 0.3872 - accuracy: 0.8584 - val_loss: 0.5432 - val_accuracy: 0.7574\n",
      "Epoch 83/100\n",
      "292/292 [==============================] - 32s 109ms/step - loss: 0.3958 - accuracy: 0.8514 - val_loss: 1.1601 - val_accuracy: 0.7219\n",
      "Epoch 84/100\n",
      "292/292 [==============================] - 32s 109ms/step - loss: 0.3797 - accuracy: 0.8549 - val_loss: 0.4122 - val_accuracy: 0.7531\n",
      "Epoch 85/100\n",
      "292/292 [==============================] - 32s 110ms/step - loss: 0.4017 - accuracy: 0.8514 - val_loss: 1.4375 - val_accuracy: 0.7375\n",
      "Epoch 86/100\n",
      "292/292 [==============================] - 33s 112ms/step - loss: 0.3749 - accuracy: 0.8657 - val_loss: 0.8098 - val_accuracy: 0.7279\n",
      "Epoch 87/100\n",
      "292/292 [==============================] - 32s 109ms/step - loss: 0.3595 - accuracy: 0.8659 - val_loss: 1.3637 - val_accuracy: 0.6906\n",
      "Epoch 88/100\n",
      "292/292 [==============================] - 32s 109ms/step - loss: 0.3575 - accuracy: 0.8619 - val_loss: 0.7863 - val_accuracy: 0.7688\n",
      "Epoch 89/100\n",
      "292/292 [==============================] - 33s 112ms/step - loss: 0.3540 - accuracy: 0.8661 - val_loss: 0.5259 - val_accuracy: 0.7672\n",
      "Epoch 90/100\n",
      "292/292 [==============================] - 32s 109ms/step - loss: 0.3705 - accuracy: 0.8628 - val_loss: 1.1714 - val_accuracy: 0.7500\n",
      "Epoch 91/100\n",
      "292/292 [==============================] - 31s 105ms/step - loss: 0.3398 - accuracy: 0.8716 - val_loss: 0.8512 - val_accuracy: 0.6969\n",
      "Epoch 92/100\n",
      "292/292 [==============================] - 31s 106ms/step - loss: 0.3369 - accuracy: 0.8784 - val_loss: 0.5917 - val_accuracy: 0.7375\n",
      "Epoch 93/100\n",
      "292/292 [==============================] - 30s 102ms/step - loss: 0.3335 - accuracy: 0.8770 - val_loss: 0.9037 - val_accuracy: 0.7607\n",
      "Epoch 94/100\n",
      "292/292 [==============================] - 29s 100ms/step - loss: 0.3262 - accuracy: 0.8811 - val_loss: 1.3872 - val_accuracy: 0.7063\n",
      "Epoch 95/100\n",
      "292/292 [==============================] - 30s 104ms/step - loss: 0.3198 - accuracy: 0.8854 - val_loss: 0.3930 - val_accuracy: 0.7500\n",
      "Epoch 96/100\n",
      "292/292 [==============================] - 31s 106ms/step - loss: 0.3180 - accuracy: 0.8822 - val_loss: 0.2202 - val_accuracy: 0.7406\n",
      "Epoch 97/100\n",
      "292/292 [==============================] - 31s 107ms/step - loss: 0.3072 - accuracy: 0.8949 - val_loss: 0.7766 - val_accuracy: 0.7738\n",
      "Epoch 98/100\n",
      "292/292 [==============================] - 30s 103ms/step - loss: 0.3022 - accuracy: 0.8921 - val_loss: 1.7627 - val_accuracy: 0.7531\n",
      "Epoch 99/100\n",
      "292/292 [==============================] - 31s 106ms/step - loss: 0.3198 - accuracy: 0.8832 - val_loss: 0.4771 - val_accuracy: 0.7500\n",
      "Epoch 100/100\n",
      "292/292 [==============================] - 30s 102ms/step - loss: 0.2958 - accuracy: 0.8944 - val_loss: 1.7991 - val_accuracy: 0.6820\n"
     ]
    }
   ],
   "source": [
    "history = model.fit_generator(\n",
    "    train_generator,\n",
    "    steps_per_epoch = 4685//batch_size,\n",
    "    epochs=epochs,\n",
    "    validation_data = validation_generator,\n",
    "    validation_steps=20)"
   ]
  },
  {
   "cell_type": "markdown",
   "metadata": {},
   "source": [
    "## 7. Accuracy Analysis and Visualization"
   ]
  },
  {
   "cell_type": "code",
   "execution_count": 13,
   "metadata": {},
   "outputs": [],
   "source": [
    "def plot_accuracy_and_loss(history):\n",
    "    plt.figure(1, figsize= (15, 10))\n",
    "\n",
    "    # plot train and test accuracy\n",
    "    plt.subplot(221)\n",
    "    plt.plot(history.history['accuracy'])\n",
    "    plt.plot(history.history['val_accuracy'])\n",
    "    plt.title('Baseline CNN Accuracy')\n",
    "    plt.ylabel('accuracy')\n",
    "    plt.xlabel('epoch')\n",
    "    plt.legend(['train', 'test'], loc='upper left')\n",
    "\n",
    "    # plot train and test loss\n",
    "    plt.subplot(222)\n",
    "    plt.plot(history.history['loss'])\n",
    "    plt.plot(history.history['val_loss'])\n",
    "    plt.title('Baseline CNN loss')\n",
    "    plt.ylabel('loss')\n",
    "    plt.xlabel('epoch')\n",
    "    plt.legend(['train', 'test'], loc='upper right')\n",
    "\n",
    "    plt.show()"
   ]
  },
  {
   "cell_type": "code",
   "execution_count": 14,
   "metadata": {
    "scrolled": true
   },
   "outputs": [
    {
     "data": {
      "image/png": "[encoded data removed]",
      "text/plain": [
       "<Figure size 1080x720 with 2 Axes>"
      ]
     },
     "metadata": {
      "needs_background": "light"
     },
     "output_type": "display_data"
    }
   ],
   "source": [
    "plot_accuracy_and_loss(history)"
   ]
  },
  {
   "cell_type": "code",
   "execution_count": 15,
   "metadata": {
    "scrolled": false
   },
   "outputs": [
    {
     "name": "stdout",
     "output_type": "stream",
     "text": [
      "-- Evaluate --\n",
      "accuracy: 95.00%\n",
      "accuracy: 73.75%\n",
      "-- Predict --\n",
      "{'daisy': 0, 'dandelion': 1, 'roses': 2, 'sunflowers': 3, 'tulips': 4}\n",
      "[[0.000 0.000 0.000 1.000 0.000]\n",
      " [0.000 0.996 0.003 0.000 0.000]\n",
      " [0.003 0.013 0.027 0.935 0.022]\n",
      " [0.997 0.001 0.000 0.001 0.002]\n",
      " [0.084 0.077 0.002 0.759 0.078]\n",
      " [0.001 0.000 0.012 0.001 0.986]\n",
      " [0.011 0.004 0.186 0.030 0.769]\n",
      " [0.003 0.000 0.832 0.021 0.144]\n",
      " [0.000 0.001 0.000 0.991 0.008]\n",
      " [1.000 0.000 0.000 0.000 0.000]\n",
      " [0.000 0.000 0.000 0.999 0.001]\n",
      " [0.000 0.000 0.090 0.000 0.910]\n",
      " [0.000 0.003 0.000 0.996 0.001]\n",
      " [0.000 0.000 0.002 0.997 0.000]\n",
      " [0.003 0.021 0.000 0.973 0.003]\n",
      " [0.000 0.001 0.000 0.983 0.016]\n",
      " [0.415 0.514 0.058 0.003 0.010]\n",
      " [0.006 0.992 0.000 0.000 0.001]\n",
      " [0.008 0.069 0.919 0.000 0.003]\n",
      " [0.995 0.002 0.001 0.001 0.002]\n",
      " [0.000 0.000 0.000 1.000 0.000]\n",
      " [0.000 0.000 0.000 1.000 0.000]\n",
      " [1.000 0.000 0.000 0.000 0.000]\n",
      " [0.053 0.396 0.003 0.528 0.020]\n",
      " [0.008 0.687 0.004 0.168 0.133]\n",
      " [0.007 0.000 0.931 0.000 0.062]\n",
      " [0.000 0.861 0.000 0.125 0.014]\n",
      " [0.000 0.000 0.000 0.000 1.000]\n",
      " [0.007 0.000 0.185 0.000 0.808]\n",
      " [0.149 0.835 0.006 0.001 0.009]\n",
      " [0.011 0.035 0.000 0.816 0.138]\n",
      " [0.000 0.000 0.997 0.003 0.000]\n",
      " [0.131 0.040 0.698 0.029 0.102]\n",
      " [0.003 0.866 0.002 0.053 0.076]\n",
      " [0.004 0.000 0.977 0.000 0.019]\n",
      " [0.964 0.027 0.006 0.001 0.002]\n",
      " [0.011 0.859 0.005 0.124 0.001]\n",
      " [0.000 0.000 0.000 0.999 0.001]\n",
      " [0.004 0.014 0.002 0.979 0.001]\n",
      " [0.000 0.000 0.000 1.000 0.000]\n",
      " [0.001 0.000 0.002 0.000 0.997]\n",
      " [0.791 0.079 0.011 0.029 0.090]\n",
      " [0.997 0.000 0.000 0.002 0.001]\n",
      " [0.939 0.056 0.001 0.000 0.004]\n",
      " [0.000 0.000 0.984 0.000 0.016]\n",
      " [0.009 0.041 0.000 0.873 0.076]\n",
      " [0.000 0.000 0.000 1.000 0.000]\n",
      " [0.328 0.404 0.105 0.029 0.134]\n",
      " [0.008 0.023 0.271 0.059 0.640]\n",
      " [0.902 0.045 0.010 0.001 0.043]\n",
      " [0.001 0.001 0.000 0.998 0.000]\n",
      " [0.000 0.000 0.075 0.000 0.925]\n",
      " [0.150 0.442 0.085 0.014 0.308]\n",
      " [0.000 0.000 0.000 0.993 0.007]\n",
      " [0.992 0.005 0.000 0.003 0.000]\n",
      " [0.000 0.000 0.000 1.000 0.000]\n",
      " [0.925 0.003 0.036 0.001 0.036]\n",
      " [0.000 0.000 0.987 0.000 0.012]\n",
      " [0.000 0.002 0.000 0.998 0.000]\n",
      " [0.004 0.004 0.003 0.028 0.962]\n",
      " [0.391 0.344 0.067 0.084 0.114]\n",
      " [0.999 0.000 0.000 0.000 0.001]\n",
      " [0.585 0.001 0.000 0.413 0.000]\n",
      " [0.001 0.173 0.001 0.821 0.003]\n",
      " [0.044 0.008 0.017 0.000 0.930]\n",
      " [0.025 0.000 0.914 0.000 0.061]\n",
      " [0.001 0.000 0.912 0.000 0.087]\n",
      " [0.017 0.043 0.000 0.939 0.001]\n",
      " [0.002 0.706 0.000 0.293 0.000]\n",
      " [0.000 0.000 0.005 0.000 0.995]\n",
      " [0.065 0.048 0.808 0.062 0.018]\n",
      " [0.021 0.000 0.006 0.000 0.973]\n",
      " [0.000 0.006 0.001 0.993 0.000]\n",
      " [0.000 0.000 0.001 0.002 0.997]\n",
      " [0.006 0.989 0.003 0.000 0.002]\n",
      " [0.114 0.715 0.098 0.000 0.074]\n",
      " [0.927 0.010 0.033 0.003 0.028]\n",
      " [0.035 0.951 0.000 0.014 0.000]\n",
      " [0.001 0.996 0.002 0.000 0.002]\n",
      " [0.001 0.773 0.000 0.225 0.001]]\n",
      "{'daisy': 0, 'dandelion': 1, 'roses': 2, 'sunflowers': 3, 'tulips': 4}\n",
      "[[0.113 0.562 0.220 0.050 0.054]\n",
      " [0.000 0.000 0.000 1.000 0.000]\n",
      " [0.953 0.002 0.002 0.001 0.041]\n",
      " [1.000 0.000 0.000 0.000 0.000]\n",
      " [1.000 0.000 0.000 0.000 0.000]\n",
      " [0.444 0.050 0.189 0.246 0.070]\n",
      " [0.000 0.999 0.000 0.001 0.000]\n",
      " [0.000 0.000 0.000 0.999 0.000]\n",
      " [0.000 0.000 1.000 0.000 0.000]\n",
      " [0.001 0.005 0.033 0.960 0.001]\n",
      " [0.618 0.003 0.000 0.379 0.001]\n",
      " [0.038 0.000 0.936 0.000 0.025]\n",
      " [0.009 0.031 0.777 0.005 0.179]\n",
      " [0.001 0.411 0.062 0.497 0.029]\n",
      " [0.024 0.023 0.944 0.000 0.010]\n",
      " [0.000 0.000 0.461 0.000 0.539]\n",
      " [0.106 0.829 0.011 0.050 0.005]\n",
      " [0.889 0.005 0.028 0.055 0.023]\n",
      " [0.038 0.003 0.741 0.000 0.218]\n",
      " [0.011 0.000 0.110 0.004 0.875]\n",
      " [0.226 0.001 0.571 0.008 0.194]\n",
      " [0.018 0.927 0.001 0.051 0.004]\n",
      " [0.237 0.318 0.113 0.017 0.315]\n",
      " [0.000 0.000 0.013 0.001 0.986]\n",
      " [0.994 0.000 0.000 0.000 0.005]\n",
      " [1.000 0.000 0.000 0.000 0.000]\n",
      " [0.024 0.903 0.066 0.000 0.007]\n",
      " [0.999 0.000 0.000 0.001 0.000]\n",
      " [0.002 0.007 0.001 0.973 0.016]\n",
      " [0.158 0.287 0.002 0.542 0.011]\n",
      " [0.499 0.000 0.457 0.000 0.044]\n",
      " [0.312 0.115 0.030 0.043 0.500]\n",
      " [0.000 0.000 0.993 0.000 0.007]\n",
      " [0.002 0.001 0.154 0.000 0.844]\n",
      " [0.002 0.000 0.000 0.000 0.998]\n",
      " [0.000 0.000 0.000 0.000 1.000]\n",
      " [1.000 0.000 0.000 0.000 0.000]\n",
      " [0.002 0.308 0.023 0.571 0.095]\n",
      " [0.014 0.058 0.001 0.921 0.006]\n",
      " [0.015 0.918 0.017 0.001 0.048]\n",
      " [0.042 0.037 0.011 0.882 0.029]\n",
      " [0.989 0.000 0.000 0.000 0.011]\n",
      " [0.939 0.011 0.028 0.012 0.010]\n",
      " [0.000 0.999 0.000 0.001 0.000]\n",
      " [0.093 0.026 0.746 0.008 0.127]\n",
      " [0.052 0.171 0.702 0.005 0.070]\n",
      " [0.019 0.035 0.208 0.322 0.416]\n",
      " [0.000 0.000 0.000 1.000 0.000]\n",
      " [0.001 0.000 0.007 0.069 0.923]\n",
      " [0.413 0.368 0.103 0.000 0.116]\n",
      " [0.908 0.077 0.000 0.014 0.001]\n",
      " [0.071 0.000 0.819 0.000 0.111]\n",
      " [0.069 0.000 0.729 0.000 0.202]\n",
      " [0.000 0.001 0.000 0.999 0.000]\n",
      " [0.007 0.000 0.992 0.000 0.001]\n",
      " [0.000 0.968 0.000 0.013 0.020]\n",
      " [0.000 0.996 0.004 0.000 0.001]\n",
      " [0.000 0.000 1.000 0.000 0.000]\n",
      " [0.003 0.000 0.922 0.000 0.075]\n",
      " [0.997 0.003 0.000 0.000 0.000]\n",
      " [0.984 0.000 0.004 0.000 0.011]\n",
      " [0.001 0.933 0.001 0.038 0.028]\n",
      " [0.000 0.000 0.000 0.000 1.000]\n",
      " [0.000 0.000 0.987 0.000 0.013]\n",
      " [0.000 0.000 1.000 0.000 0.000]\n",
      " [0.006 0.506 0.000 0.460 0.027]\n",
      " [0.999 0.000 0.000 0.000 0.001]\n",
      " [0.000 0.000 0.085 0.913 0.002]\n",
      " [0.467 0.020 0.142 0.020 0.350]\n",
      " [0.000 0.000 0.000 0.000 1.000]\n",
      " [0.011 0.000 0.278 0.001 0.710]\n",
      " [0.164 0.410 0.208 0.002 0.216]\n",
      " [0.036 0.006 0.885 0.027 0.047]\n",
      " [0.613 0.002 0.079 0.001 0.305]\n",
      " [0.082 0.001 0.261 0.000 0.655]\n",
      " [0.999 0.001 0.000 0.000 0.000]\n",
      " [0.478 0.021 0.362 0.071 0.068]\n",
      " [0.019 0.000 0.928 0.000 0.052]\n",
      " [0.000 0.001 0.000 0.040 0.959]\n",
      " [0.002 0.000 0.017 0.000 0.980]]\n"
     ]
    }
   ],
   "source": [
    "print(\"-- Evaluate --\")\n",
    "\n",
    "scores_train = model.evaluate_generator(\n",
    "            train_generator, \n",
    "            steps = 5)\n",
    "scores_val = model.evaluate_generator(\n",
    "            validation_generator, \n",
    "            steps = 5)\n",
    "\n",
    "print(\"%s: %.2f%%\" %(model.metrics_names[1], scores_train[1]*100))\n",
    "print(\"%s: %.2f%%\" %(model.metrics_names[1], scores_val[1]*100))\n",
    "\n",
    "print(\"-- Predict --\")\n",
    "output_train = model.predict_generator(train_generator, steps=5)\n",
    "output_val = model.predict_generator(validation_generator, steps=5)\n",
    "np.set_printoptions(formatter={'float': lambda x: \"{0:0.3f}\".format(x)})\n",
    "\n",
    "print(train_generator.class_indices)\n",
    "print(output_train)\n",
    "\n",
    "print(validation_generator.class_indices)\n",
    "print(output_val)"
   ]
  },
  {
   "cell_type": "markdown",
   "metadata": {},
   "source": [
    "## 8. Save and Load model"
   ]
  },
  {
   "cell_type": "code",
   "execution_count": 18,
   "metadata": {},
   "outputs": [],
   "source": [
    "# save model architecture\n",
    "model_json = model.to_json()\n",
    "open('3_model.json', 'w').write(model_json)\n",
    "\n",
    "# save model's learned weights\n",
    "model.save_weights('3_weights.h5', overwrite=True)"
   ]
  },
  {
   "cell_type": "code",
   "execution_count": 19,
   "metadata": {},
   "outputs": [
    {
     "name": "stdout",
     "output_type": "stream",
     "text": [
      "Loaded model from disk\n"
     ]
    }
   ],
   "source": [
    "# Load trained model\n",
    "from keras.models import model_from_json \n",
    "\n",
    "json_file = open(\"3_model.json\", \"r\")\n",
    "loaded_model_json = json_file.read() \n",
    "json_file.close()\n",
    "loaded_model = model_from_json(loaded_model_json)\n",
    " \n",
    "# model weight load \n",
    "loaded_model.load_weights(\"3_weights.h5\")\n",
    "print(\"Loaded model from disk\")"
   ]
  }
 ],
 "metadata": {
  "kernelspec": {
   "display_name": "Python 3",
   "language": "python",
   "name": "python3"
  },
  "language_info": {
   "codemirror_mode": {
    "name": "ipython",
    "version": 3
   },
   "file_extension": ".py",
   "mimetype": "text/x-python",
   "name": "python",
   "nbconvert_exporter": "python",
   "pygments_lexer": "ipython3",
   "version": "3.7.7"
  }
 },
 "nbformat": 4,
 "nbformat_minor": 4
}
